{
 "cells": [
  {
   "cell_type": "code",
   "execution_count": 4,
   "metadata": {},
   "outputs": [],
   "source": [
    "# Library imports / set up\n",
    "import pandas as pd\n",
    "import matplotlib.pyplot as plt\n",
    "%matplotlib inline\n",
    "# display is required to allow multiple prints in each cell\n",
    "from IPython.display import display\n",
    "from IPython.core.interactiveshell import InteractiveShell\n",
    "InteractiveShell.ast_node_interactivity = \"all\"\n",
    "import numpy as np\n",
    "pd.set_option('display.max_colwidth', -1)"
   ]
  },
  {
   "cell_type": "code",
   "execution_count": 5,
   "metadata": {},
   "outputs": [
    {
     "data": {
      "text/html": [
       "<div>\n",
       "<style scoped>\n",
       "    .dataframe tbody tr th:only-of-type {\n",
       "        vertical-align: middle;\n",
       "    }\n",
       "\n",
       "    .dataframe tbody tr th {\n",
       "        vertical-align: top;\n",
       "    }\n",
       "\n",
       "    .dataframe thead th {\n",
       "        text-align: right;\n",
       "    }\n",
       "</style>\n",
       "<table border=\"1\" class=\"dataframe\">\n",
       "  <thead>\n",
       "    <tr style=\"text-align: right;\">\n",
       "      <th></th>\n",
       "      <th>id</th>\n",
       "      <th>created_at</th>\n",
       "      <th>text</th>\n",
       "    </tr>\n",
       "  </thead>\n",
       "  <tbody>\n",
       "    <tr>\n",
       "      <th>0</th>\n",
       "      <td>1019946110142513152</td>\n",
       "      <td>2018-07-19 14:04:36</td>\n",
       "      <td>Brilliant to see this further investment in Alzheimer’s research. Thank you @BillGates! https://t.co/SRd31NykFx</td>\n",
       "    </tr>\n",
       "  </tbody>\n",
       "</table>\n",
       "</div>"
      ],
      "text/plain": [
       "                    id           created_at  \\\n",
       "0  1019946110142513152  2018-07-19 14:04:36   \n",
       "\n",
       "                                                                                                              text  \n",
       "0  Brilliant to see this further investment in Alzheimer’s research. Thank you @BillGates! https://t.co/SRd31NykFx  "
      ]
     },
     "metadata": {},
     "output_type": "display_data"
    },
    {
     "data": {
      "text/html": [
       "<div>\n",
       "<style scoped>\n",
       "    .dataframe tbody tr th:only-of-type {\n",
       "        vertical-align: middle;\n",
       "    }\n",
       "\n",
       "    .dataframe tbody tr th {\n",
       "        vertical-align: top;\n",
       "    }\n",
       "\n",
       "    .dataframe thead th {\n",
       "        text-align: right;\n",
       "    }\n",
       "</style>\n",
       "<table border=\"1\" class=\"dataframe\">\n",
       "  <thead>\n",
       "    <tr style=\"text-align: right;\">\n",
       "      <th></th>\n",
       "      <th>id</th>\n",
       "      <th>created_at</th>\n",
       "      <th>text</th>\n",
       "    </tr>\n",
       "  </thead>\n",
       "  <tbody>\n",
       "    <tr>\n",
       "      <th>0</th>\n",
       "      <td>1020286313562628098</td>\n",
       "      <td>2018-07-20 12:36:27</td>\n",
       "      <td>Torbay's @thlof do excellent charitable work raising money to help support @TorbaySDevonNHS. Their dedicated volunteers make a huge difference to the local community and patients - and  @kevin_j_foster is a passionate supporter of their work. https://t.co/aqvRqNA5QX</td>\n",
       "    </tr>\n",
       "  </tbody>\n",
       "</table>\n",
       "</div>"
      ],
      "text/plain": [
       "                    id           created_at  \\\n",
       "0  1020286313562628098  2018-07-20 12:36:27   \n",
       "\n",
       "                                                                                                                                                                                                                                                                         text  \n",
       "0  Torbay's @thlof do excellent charitable work raising money to help support @TorbaySDevonNHS. Their dedicated volunteers make a huge difference to the local community and patients - and  @kevin_j_foster is a passionate supporter of their work. https://t.co/aqvRqNA5QX  "
      ]
     },
     "metadata": {},
     "output_type": "display_data"
    },
    {
     "data": {
      "text/plain": [
       "'DC (2680, 3), TM (955, 3)'"
      ]
     },
     "metadata": {},
     "output_type": "display_data"
    }
   ],
   "source": [
    "# Data is read\n",
    "dc = pd.read_csv('david_cameron_tweets.csv', sep=\"|\")\n",
    "tm = pd.read_csv('theresa_may_tweets.csv', sep=\"|\")\n",
    "\n",
    "# Print out first line to make sure data is read ok\n",
    "display(dc.head(1))\n",
    "display(tm.head(1))\n",
    "\n",
    "# Print rows x columns so we're sure it's ok\n",
    "display(\"DC \" + str(dc.shape) + \", TM \" + str(tm.shape) )"
   ]
  },
  {
   "cell_type": "code",
   "execution_count": 6,
   "metadata": {},
   "outputs": [
    {
     "data": {
      "text/plain": [
       "dtype('<M8[ns]')"
      ]
     },
     "execution_count": 6,
     "metadata": {},
     "output_type": "execute_result"
    },
    {
     "data": {
      "text/plain": [
       "dtype('<M8[ns]')"
      ]
     },
     "execution_count": 6,
     "metadata": {},
     "output_type": "execute_result"
    }
   ],
   "source": [
    "# created_at is likely to be parsed as text\n",
    "# We convert dates to a date/time format so we can do 'maths' on them\n",
    "dc['created_at'] = pd.to_datetime(dc['created_at'], format='%Y-%m-%d %H:%M:%S')\n",
    "tm['created_at'] = pd.to_datetime(tm['created_at'], format='%Y-%m-%d %H:%M:%S')\n",
    "\n",
    "# If ok, dtype should be datetime64[ns] or <M8[ns]\n",
    "dc.created_at.dtype\n",
    "tm.created_at.dtype"
   ]
  },
  {
   "cell_type": "code",
   "execution_count": 7,
   "metadata": {},
   "outputs": [
    {
     "name": "stdout",
     "output_type": "stream",
     "text": [
      "Min 2012-10-06 16:51:46 Max 2018-07-19 14:04:36\n",
      "Min 2016-06-30 08:05:36 Max 2018-07-20 12:36:27\n"
     ]
    }
   ],
   "source": [
    "# Min and Max\n",
    "print(\"Min \" + str(dc['created_at'].min()) + \" Max \" + str(dc['created_at'].max()))\n",
    "print(\"Min \" + str(tm['created_at'].min()) + \" Max \" + str(tm['created_at'].max()))"
   ]
  },
  {
   "cell_type": "code",
   "execution_count": 30,
   "metadata": {},
   "outputs": [
    {
     "data": {
      "text/plain": [
       "<matplotlib.axes._subplots.AxesSubplot at 0x11734d048>"
      ]
     },
     "execution_count": 30,
     "metadata": {},
     "output_type": "execute_result"
    },
    {
     "data": {
      "text/plain": [
       "<matplotlib.axes._subplots.AxesSubplot at 0x11734d048>"
      ]
     },
     "execution_count": 30,
     "metadata": {},
     "output_type": "execute_result"
    },
    {
     "data": {
      "image/png": "[encoded data removed]",
      "text/plain": [
       "<Figure size 432x288 with 1 Axes>"
      ]
     },
     "metadata": {},
     "output_type": "display_data"
    }
   ],
   "source": [
    "# Distribution of tweets per year\n",
    "dc['created_at'].hist(color=\"blue\") # blue, David Cameron\n",
    "tm['created_at'].hist(color=\"orange\") # orange, Theresa May"
   ]
  },
  {
   "cell_type": "markdown",
   "metadata": {},
   "source": [
    "# 1. Statistics"
   ]
  },
  {
   "cell_type": "markdown",
   "metadata": {},
   "source": [
    "## 1.1 Time of tweeting: full dataset"
   ]
  },
  {
   "cell_type": "markdown",
   "metadata": {},
   "source": [
    "Histograms of twitter creation for Cameron (blue) and May (Orange), normalised\n",
    "Conclusion: Cameron is on average a breakfast/after-lunch type of tweeter, while May has a more pyramidal approach culminating after lunch"
   ]
  },
  {
   "cell_type": "code",
   "execution_count": 31,
   "metadata": {},
   "outputs": [
    {
     "data": {
      "text/plain": [
       "<matplotlib.axes._subplots.AxesSubplot at 0x11750f710>"
      ]
     },
     "execution_count": 31,
     "metadata": {},
     "output_type": "execute_result"
    },
    {
     "data": {
      "image/png": "[encoded data removed]",
      "text/plain": [
       "<Figure size 432x288 with 1 Axes>"
      ]
     },
     "metadata": {},
     "output_type": "display_data"
    }
   ],
   "source": [
    "dc['created_at'].dt.hour.hist(density=True, color=\"blue\")"
   ]
  },
  {
   "cell_type": "code",
   "execution_count": 29,
   "metadata": {},
   "outputs": [
    {
     "data": {
      "text/plain": [
       "<matplotlib.axes._subplots.AxesSubplot at 0x117443d68>"
      ]
     },
     "execution_count": 29,
     "metadata": {},
     "output_type": "execute_result"
    },
    {
     "data": {
      "image/png": "[encoded data removed]",
      "text/plain": [
       "<Figure size 432x288 with 1 Axes>"
      ]
     },
     "metadata": {},
     "output_type": "display_data"
    }
   ],
   "source": [
    "tm['created_at'].dt.hour.hist(density=True, color='Orange')"
   ]
  },
  {
   "cell_type": "markdown",
   "metadata": {},
   "source": [
    "## 1.2 Tweeting statistics during electoral periods"
   ]
  },
  {
   "cell_type": "markdown",
   "metadata": {},
   "source": [
    "Does the period immediately preceding an election or referendum affect the pattern of tweeting? \n",
    "\n",
    "For David Cameron, these are the periods present before his resignation:\n",
    "* Scottish Independence Referendum: 21 March 2013 (Scottish Government Announcement) to 18 September 2014 (Referendum Day)\n",
    "* General Election 2015: 30 March 2015 (Dissolution) to 7 May 2015 (Election Day)\n",
    "* EU Exit Referendum: 17 December 2015 (Royal Assent) to 23 June 2016 (Referendum Day) \n",
    "\n",
    "For Theresa May, there is only one comparable period:\n",
    "* General Election 2017: 19 April 2017 (Commons vote) to 8 June 2017 (Election Day)\n",
    "\n",
    "Each period is compared with its complement in the full dataset."
   ]
  },
  {
   "cell_type": "code",
   "execution_count": 48,
   "metadata": {},
   "outputs": [
    {
     "data": {
      "text/plain": [
       "<matplotlib.axes._subplots.AxesSubplot at 0x1186d0940>"
      ]
     },
     "execution_count": 48,
     "metadata": {},
     "output_type": "execute_result"
    },
    {
     "data": {
      "text/plain": [
       "<matplotlib.axes._subplots.AxesSubplot at 0x11878fa90>"
      ]
     },
     "execution_count": 48,
     "metadata": {},
     "output_type": "execute_result"
    },
    {
     "data": {
      "image/png": "[encoded data removed]",
      "text/plain": [
       "<Figure size 432x288 with 2 Axes>"
      ]
     },
     "metadata": {},
     "output_type": "display_data"
    }
   ],
   "source": [
    "# David Cameron Scottish Referendum\n",
    "# Conclusion: tweeting pattern was more focussed in the morning during the referendum campaign\n",
    "dc_SCOT = dc[(dc['created_at'] >= '2013-03-21') & (dc['created_at'] <= '2014-09-18')]\n",
    "dc_NOTSCOT = dc[(dc['created_at'] < '2013-03-21') | (dc['created_at'] > '2014-09-18')]\n",
    "\n",
    "fig, axs = plt.subplots(1,2)\n",
    "\n",
    "dc_SCOT['created_at'].dt.hour.hist(density=True, color=\"blue\", ax=axs[0])\n",
    "dc_NOTSCOT['created_at'].dt.hour.hist(density=True, color=\"blue\", ax=axs[1])"
   ]
  },
  {
   "cell_type": "code",
   "execution_count": 45,
   "metadata": {},
   "outputs": [
    {
     "data": {
      "text/plain": [
       "<matplotlib.axes._subplots.AxesSubplot at 0x11833e6d8>"
      ]
     },
     "execution_count": 45,
     "metadata": {},
     "output_type": "execute_result"
    },
    {
     "data": {
      "text/plain": [
       "<matplotlib.axes._subplots.AxesSubplot at 0x1183c49e8>"
      ]
     },
     "execution_count": 45,
     "metadata": {},
     "output_type": "execute_result"
    },
    {
     "data": {
      "image/png": "[encoded data removed]",
      "text/plain": [
       "<Figure size 432x288 with 2 Axes>"
      ]
     },
     "metadata": {},
     "output_type": "display_data"
    }
   ],
   "source": [
    "# David Cameron General Election 2015\n",
    "# Conclusion: More tweets mid-morning\n",
    "dc_GE15 = dc[(dc['created_at'] >= '2015-03-30') & (dc['created_at'] <= '2015-05-07')]\n",
    "dc_NOTGE15 = dc[(dc['created_at'] < '2015-03-30') | (dc['created_at'] > '2015-05-07')]\n",
    "\n",
    "fig, axs = plt.subplots(1,2)\n",
    "\n",
    "dc_GE15['created_at'].dt.hour.hist(density=True, color=\"blue\", ax=axs[0])\n",
    "dc_NOTGE15['created_at'].dt.hour.hist(density=True, color=\"blue\", ax=axs[1])"
   ]
  },
  {
   "cell_type": "code",
   "execution_count": 47,
   "metadata": {},
   "outputs": [
    {
     "data": {
      "text/plain": [
       "<matplotlib.axes._subplots.AxesSubplot at 0x118605be0>"
      ]
     },
     "execution_count": 47,
     "metadata": {},
     "output_type": "execute_result"
    },
    {
     "data": {
      "text/plain": [
       "<matplotlib.axes._subplots.AxesSubplot at 0x118632358>"
      ]
     },
     "execution_count": 47,
     "metadata": {},
     "output_type": "execute_result"
    },
    {
     "data": {
      "image/png": "[encoded data removed]",
      "text/plain": [
       "<Figure size 432x288 with 2 Axes>"
      ]
     },
     "metadata": {},
     "output_type": "display_data"
    }
   ],
   "source": [
    "# David Cameron EU Exit Referendum 17 December 2015 to 23 June 2016 (Referendum Day)\n",
    "# Conclusion: Not much change, but fewer tweets mid-morning\n",
    "dc_EU = dc[(dc['created_at'] >= '2015-12-17') & (dc['created_at'] <= '2016-06-23')]\n",
    "dc_NOTEU = dc[(dc['created_at'] < '2015-12-17') | (dc['created_at'] > '2016-06-23')]\n",
    "\n",
    "fig, axs = plt.subplots(1,2)\n",
    "\n",
    "dc_EU['created_at'].dt.hour.hist(density=True, color=\"blue\", ax=axs[0])\n",
    "dc_NOTEU['created_at'].dt.hour.hist(density=True, color=\"blue\", ax=axs[1])"
   ]
  },
  {
   "cell_type": "code",
   "execution_count": 50,
   "metadata": {},
   "outputs": [
    {
     "data": {
      "text/plain": [
       "<matplotlib.axes._subplots.AxesSubplot at 0x118a2cb00>"
      ]
     },
     "execution_count": 50,
     "metadata": {},
     "output_type": "execute_result"
    },
    {
     "data": {
      "text/plain": [
       "<matplotlib.axes._subplots.AxesSubplot at 0x118a6b0f0>"
      ]
     },
     "execution_count": 50,
     "metadata": {},
     "output_type": "execute_result"
    },
    {
     "data": {
      "image/png": "[encoded data removed]",
      "text/plain": [
       "<Figure size 432x288 with 2 Axes>"
      ]
     },
     "metadata": {},
     "output_type": "display_data"
    }
   ],
   "source": [
    "# Theresa May General Election 2017 \n",
    "# Conclusion: a pattern that skewes a lot towards the evening\n",
    "tm_GE17 = tm[(tm['created_at'] >= '2017-04-19') & (tm['created_at'] <= '2017-06-08')]\n",
    "tm_NOTGE17 = tm[(tm['created_at'] < '2017-04-19') | (tm['created_at'] > '2017-06-08')]\n",
    "\n",
    "fig, axs = plt.subplots(1,2)\n",
    "\n",
    "tm_GE17['created_at'].dt.hour.hist(density=True, color=\"blue\", ax=axs[0])\n",
    "tm_NOTGE17['created_at'].dt.hour.hist(density=True, color=\"blue\", ax=axs[1])"
   ]
  },
  {
   "cell_type": "markdown",
   "metadata": {},
   "source": [
    "# 2. Friendliness and Energy"
   ]
  },
  {
   "cell_type": "markdown",
   "metadata": {},
   "source": [
    "We will first of all add indices of energy and friendliness to the original dataset, then use these to aggregate in some way to return a temporal analysis."
   ]
  },
  {
   "cell_type": "code",
   "execution_count": 94,
   "metadata": {},
   "outputs": [],
   "source": [
    "# Here we define energy and friendliness words\n",
    "words_energy = ['believe', 'belief', 'action', 'do', \n",
    "                'take', 'fast', 'quick', 'as soon as possible', 'law', 'legislate', \n",
    "                'respond', 'right', 'wrong']\n",
    "\n",
    "words_friendliness = ['sympathy', 'concern', 'condolences', 'support', 'understand', \n",
    "                      'help', 'assist', 'disaster', 'tragedy', 'visit', 'hustand', 'children' ,\n",
    "                     'wife', 'remember' 'congratulations', 'my']"
   ]
  },
  {
   "cell_type": "code",
   "execution_count": 95,
   "metadata": {},
   "outputs": [],
   "source": [
    "# This function returns a pair (energy index, friendliness index) for the text passed as input\n",
    "#\n",
    "# It calculates a percentage, e.g.: \n",
    "#    energy index = number of occurrences of energy words * 100 / total words in text in input\n",
    "#\n",
    "# Example\n",
    "# energyFriendlinessIndex('My sympathy and concern go to the friends in Greece. I believe.')\n",
    "#  returns: [8.333333333333334, 16.666666666666668]\n",
    "\n",
    "import re\n",
    "import string\n",
    "\n",
    "def energyFriendlinessIndex(text): \n",
    "    # process text to make it searchable (add spaces, replace punctuation)\n",
    "    text = \" \" + text.lower() + \" \"\n",
    "    translator = str.maketrans('','',string.punctuation)\n",
    "    text = text.translate(translator)\n",
    "    \n",
    "    # total for percentage calculation\n",
    "    total = sum([1 for i in text.split()])\n",
    "            \n",
    "    # search words in string\n",
    "    energyCount = 0\n",
    "    for search_word in words_energy:\n",
    "        my_regex = r\" \" + re.escape(search_word) + r\" \"\n",
    "        occurrences = len(re.findall(my_regex, text))\n",
    "        energyCount = energyCount + occurrences\n",
    "        \n",
    "    friendlinessCount = 0\n",
    "    for search_word in words_friendliness:\n",
    "        my_regex = r\" \" + re.escape(search_word) + r\" \"\n",
    "        occurrences = len(re.findall(my_regex, text))\n",
    "        friendlinessCount = friendlinessCount + occurrences\n",
    "        \n",
    "    return [ energyCount*100/total, friendlinessCount*100/total ]"
   ]
  },
  {
   "cell_type": "code",
   "execution_count": 96,
   "metadata": {},
   "outputs": [
    {
     "data": {
      "text/html": [
       "<div>\n",
       "<style scoped>\n",
       "    .dataframe tbody tr th:only-of-type {\n",
       "        vertical-align: middle;\n",
       "    }\n",
       "\n",
       "    .dataframe tbody tr th {\n",
       "        vertical-align: top;\n",
       "    }\n",
       "\n",
       "    .dataframe thead th {\n",
       "        text-align: right;\n",
       "    }\n",
       "</style>\n",
       "<table border=\"1\" class=\"dataframe\">\n",
       "  <thead>\n",
       "    <tr style=\"text-align: right;\">\n",
       "      <th></th>\n",
       "      <th>id</th>\n",
       "      <th>created_at</th>\n",
       "      <th>text</th>\n",
       "      <th>YearWeek</th>\n",
       "      <th>energy</th>\n",
       "      <th>friendliness</th>\n",
       "    </tr>\n",
       "  </thead>\n",
       "  <tbody>\n",
       "    <tr>\n",
       "      <th>0</th>\n",
       "      <td>1019946110142513152</td>\n",
       "      <td>2018-07-19 14:04:36</td>\n",
       "      <td>Brilliant to see this further investment in Alzheimer’s research. Thank you @BillGates! https://t.co/SRd31NykFx</td>\n",
       "      <td>2018/29</td>\n",
       "      <td>0.0</td>\n",
       "      <td>0.0</td>\n",
       "    </tr>\n",
       "  </tbody>\n",
       "</table>\n",
       "</div>"
      ],
      "text/plain": [
       "                    id          created_at  \\\n",
       "0  1019946110142513152 2018-07-19 14:04:36   \n",
       "\n",
       "                                                                                                              text  \\\n",
       "0  Brilliant to see this further investment in Alzheimer’s research. Thank you @BillGates! https://t.co/SRd31NykFx   \n",
       "\n",
       "  YearWeek  energy  friendliness  \n",
       "0  2018/29  0.0     0.0           "
      ]
     },
     "execution_count": 96,
     "metadata": {},
     "output_type": "execute_result"
    },
    {
     "data": {
      "text/html": [
       "<div>\n",
       "<style scoped>\n",
       "    .dataframe tbody tr th:only-of-type {\n",
       "        vertical-align: middle;\n",
       "    }\n",
       "\n",
       "    .dataframe tbody tr th {\n",
       "        vertical-align: top;\n",
       "    }\n",
       "\n",
       "    .dataframe thead th {\n",
       "        text-align: right;\n",
       "    }\n",
       "</style>\n",
       "<table border=\"1\" class=\"dataframe\">\n",
       "  <thead>\n",
       "    <tr style=\"text-align: right;\">\n",
       "      <th></th>\n",
       "      <th>id</th>\n",
       "      <th>created_at</th>\n",
       "      <th>text</th>\n",
       "      <th>YearWeek</th>\n",
       "      <th>energy</th>\n",
       "      <th>friendliness</th>\n",
       "    </tr>\n",
       "  </thead>\n",
       "  <tbody>\n",
       "    <tr>\n",
       "      <th>0</th>\n",
       "      <td>1020286313562628098</td>\n",
       "      <td>2018-07-20 12:36:27</td>\n",
       "      <td>Torbay's @thlof do excellent charitable work raising money to help support @TorbaySDevonNHS. Their dedicated volunteers make a huge difference to the local community and patients - and  @kevin_j_foster is a passionate supporter of their work. https://t.co/aqvRqNA5QX</td>\n",
       "      <td>2018/29</td>\n",
       "      <td>2.857143</td>\n",
       "      <td>5.714286</td>\n",
       "    </tr>\n",
       "  </tbody>\n",
       "</table>\n",
       "</div>"
      ],
      "text/plain": [
       "                    id          created_at  \\\n",
       "0  1020286313562628098 2018-07-20 12:36:27   \n",
       "\n",
       "                                                                                                                                                                                                                                                                         text  \\\n",
       "0  Torbay's @thlof do excellent charitable work raising money to help support @TorbaySDevonNHS. Their dedicated volunteers make a huge difference to the local community and patients - and  @kevin_j_foster is a passionate supporter of their work. https://t.co/aqvRqNA5QX   \n",
       "\n",
       "  YearWeek    energy  friendliness  \n",
       "0  2018/29  2.857143  5.714286      "
      ]
     },
     "execution_count": 96,
     "metadata": {},
     "output_type": "execute_result"
    }
   ],
   "source": [
    "# Indices of energy and friendliness for the whole dataset\n",
    "# We apply the function to the original data frame\n",
    "dc['energy'] = dc.apply (lambda row: energyFriendlinessIndex (row['text'])[0],axis=1)\n",
    "dc['friendliness'] = dc.apply (lambda row: energyFriendlinessIndex (row['text'])[1],axis=1)\n",
    "                   \n",
    "tm['energy'] = tm.apply (lambda row: energyFriendlinessIndex (row['text'])[0],axis=1)\n",
    "tm['friendliness'] = tm.apply (lambda row: energyFriendlinessIndex (row['text'])[1],axis=1)\n",
    "                   \n",
    "dc.head(1)\n",
    "tm.head(1)"
   ]
  },
  {
   "cell_type": "markdown",
   "metadata": {},
   "source": [
    "## 2.1 Basic descriptive statistics"
   ]
  },
  {
   "cell_type": "code",
   "execution_count": 99,
   "metadata": {},
   "outputs": [
    {
     "data": {
      "text/plain": [
       "0.3987834478108052"
      ]
     },
     "execution_count": 99,
     "metadata": {},
     "output_type": "execute_result"
    },
    {
     "data": {
      "text/plain": [
       "2.2977052771503077"
      ]
     },
     "execution_count": 99,
     "metadata": {},
     "output_type": "execute_result"
    },
    {
     "data": {
      "text/plain": [
       "1.340945431663262"
      ]
     },
     "execution_count": 99,
     "metadata": {},
     "output_type": "execute_result"
    },
    {
     "data": {
      "text/plain": [
       "7.811279025075449"
      ]
     },
     "execution_count": 99,
     "metadata": {},
     "output_type": "execute_result"
    }
   ],
   "source": [
    "dc['energy'].mean()\n",
    "dc['energy'].var()\n",
    "dc['friendliness'].mean()\n",
    "dc['friendliness'].var()"
   ]
  },
  {
   "cell_type": "code",
   "execution_count": 100,
   "metadata": {},
   "outputs": [
    {
     "data": {
      "text/plain": [
       "0.521673776853664"
      ]
     },
     "execution_count": 100,
     "metadata": {},
     "output_type": "execute_result"
    },
    {
     "data": {
      "text/plain": [
       "2.3101459318226154"
      ]
     },
     "execution_count": 100,
     "metadata": {},
     "output_type": "execute_result"
    },
    {
     "data": {
      "text/plain": [
       "1.0881648914219169"
      ]
     },
     "execution_count": 100,
     "metadata": {},
     "output_type": "execute_result"
    },
    {
     "data": {
      "text/plain": [
       "5.382011361183821"
      ]
     },
     "execution_count": 100,
     "metadata": {},
     "output_type": "execute_result"
    }
   ],
   "source": [
    "tm['energy'].mean()\n",
    "tm['energy'].var()\n",
    "tm['friendliness'].mean()\n",
    "tm['friendliness'].var()"
   ]
  },
  {
   "cell_type": "markdown",
   "metadata": {},
   "source": [
    "## 2.2 Week aggregate"
   ]
  },
  {
   "cell_type": "markdown",
   "metadata": {},
   "source": [
    "Let's see how friendliness and energy vary along time."
   ]
  },
  {
   "cell_type": "code",
   "execution_count": 118,
   "metadata": {},
   "outputs": [],
   "source": [
    "# Add week of the year\n",
    "dc['YearWeek'] = dc['created_at'].apply(lambda x: \"%d/%s\" % (x.year, str(x.week).zfill(2)))\n",
    "tm['YearWeek'] = tm['created_at'].apply(lambda x: \"%d/%s\" % (x.year, str(x.week).zfill(2)))"
   ]
  },
  {
   "cell_type": "code",
   "execution_count": 127,
   "metadata": {},
   "outputs": [
    {
     "data": {
      "text/html": [
       "<div>\n",
       "<style scoped>\n",
       "    .dataframe tbody tr th:only-of-type {\n",
       "        vertical-align: middle;\n",
       "    }\n",
       "\n",
       "    .dataframe tbody tr th {\n",
       "        vertical-align: top;\n",
       "    }\n",
       "\n",
       "    .dataframe thead th {\n",
       "        text-align: right;\n",
       "    }\n",
       "</style>\n",
       "<table border=\"1\" class=\"dataframe\">\n",
       "  <thead>\n",
       "    <tr style=\"text-align: right;\">\n",
       "      <th></th>\n",
       "      <th>YearWeek</th>\n",
       "      <th>id</th>\n",
       "      <th>energy</th>\n",
       "      <th>friendliness</th>\n",
       "    </tr>\n",
       "  </thead>\n",
       "  <tbody>\n",
       "    <tr>\n",
       "      <th>0</th>\n",
       "      <td>2012/40</td>\n",
       "      <td>254774625780776960</td>\n",
       "      <td>2.777778</td>\n",
       "      <td>2.272727</td>\n",
       "    </tr>\n",
       "    <tr>\n",
       "      <th>1</th>\n",
       "      <td>2012/41</td>\n",
       "      <td>255589727446646784</td>\n",
       "      <td>1.784245</td>\n",
       "      <td>1.216063</td>\n",
       "    </tr>\n",
       "    <tr>\n",
       "      <th>2</th>\n",
       "      <td>2012/42</td>\n",
       "      <td>258833145270519808</td>\n",
       "      <td>1.250000</td>\n",
       "      <td>0.000000</td>\n",
       "    </tr>\n",
       "    <tr>\n",
       "      <th>3</th>\n",
       "      <td>2012/43</td>\n",
       "      <td>261154368493420544</td>\n",
       "      <td>1.449275</td>\n",
       "      <td>1.518288</td>\n",
       "    </tr>\n",
       "    <tr>\n",
       "      <th>4</th>\n",
       "      <td>2012/44</td>\n",
       "      <td>263696834225117184</td>\n",
       "      <td>0.000000</td>\n",
       "      <td>0.000000</td>\n",
       "    </tr>\n",
       "  </tbody>\n",
       "</table>\n",
       "</div>"
      ],
      "text/plain": [
       "  YearWeek                  id    energy  friendliness\n",
       "0  2012/40  254774625780776960  2.777778  2.272727    \n",
       "1  2012/41  255589727446646784  1.784245  1.216063    \n",
       "2  2012/42  258833145270519808  1.250000  0.000000    \n",
       "3  2012/43  261154368493420544  1.449275  1.518288    \n",
       "4  2012/44  263696834225117184  0.000000  0.000000    "
      ]
     },
     "execution_count": 127,
     "metadata": {},
     "output_type": "execute_result"
    },
    {
     "data": {
      "text/html": [
       "<div>\n",
       "<style scoped>\n",
       "    .dataframe tbody tr th:only-of-type {\n",
       "        vertical-align: middle;\n",
       "    }\n",
       "\n",
       "    .dataframe tbody tr th {\n",
       "        vertical-align: top;\n",
       "    }\n",
       "\n",
       "    .dataframe thead th {\n",
       "        text-align: right;\n",
       "    }\n",
       "</style>\n",
       "<table border=\"1\" class=\"dataframe\">\n",
       "  <thead>\n",
       "    <tr style=\"text-align: right;\">\n",
       "      <th></th>\n",
       "      <th>YearWeek</th>\n",
       "      <th>id</th>\n",
       "      <th>energy</th>\n",
       "      <th>friendliness</th>\n",
       "    </tr>\n",
       "  </thead>\n",
       "  <tbody>\n",
       "    <tr>\n",
       "      <th>0</th>\n",
       "      <td>2016/26</td>\n",
       "      <td>749431989904844032</td>\n",
       "      <td>0.555269</td>\n",
       "      <td>1.262015</td>\n",
       "    </tr>\n",
       "    <tr>\n",
       "      <th>1</th>\n",
       "      <td>2016/27</td>\n",
       "      <td>750930744618471552</td>\n",
       "      <td>0.376894</td>\n",
       "      <td>1.286178</td>\n",
       "    </tr>\n",
       "    <tr>\n",
       "      <th>2</th>\n",
       "      <td>2016/28</td>\n",
       "      <td>752619106258736128</td>\n",
       "      <td>0.271739</td>\n",
       "      <td>0.000000</td>\n",
       "    </tr>\n",
       "    <tr>\n",
       "      <th>3</th>\n",
       "      <td>2016/29</td>\n",
       "      <td>756061619734482944</td>\n",
       "      <td>0.000000</td>\n",
       "      <td>0.000000</td>\n",
       "    </tr>\n",
       "    <tr>\n",
       "      <th>4</th>\n",
       "      <td>2016/30</td>\n",
       "      <td>759649054779408384</td>\n",
       "      <td>0.000000</td>\n",
       "      <td>0.000000</td>\n",
       "    </tr>\n",
       "  </tbody>\n",
       "</table>\n",
       "</div>"
      ],
      "text/plain": [
       "  YearWeek                  id    energy  friendliness\n",
       "0  2016/26  749431989904844032  0.555269  1.262015    \n",
       "1  2016/27  750930744618471552  0.376894  1.286178    \n",
       "2  2016/28  752619106258736128  0.271739  0.000000    \n",
       "3  2016/29  756061619734482944  0.000000  0.000000    \n",
       "4  2016/30  759649054779408384  0.000000  0.000000    "
      ]
     },
     "execution_count": 127,
     "metadata": {},
     "output_type": "execute_result"
    }
   ],
   "source": [
    "# Aggregate by week and calculate the mean of energy and friendliness\n",
    "dcw = dc.groupby(['YearWeek'], as_index=False).mean() \n",
    "tmw = tm.groupby(['YearWeek'], as_index=False).mean() \n",
    "dcw.head(5)\n",
    "tmw.head(5)\n",
    "# to check dc[dc['YearWeek']=='2012/40']"
   ]
  },
  {
   "cell_type": "code",
   "execution_count": 154,
   "metadata": {},
   "outputs": [
    {
     "data": {
      "text/plain": [
       "<matplotlib.axes._subplots.AxesSubplot at 0x11908b780>"
      ]
     },
     "execution_count": 154,
     "metadata": {},
     "output_type": "execute_result"
    },
    {
     "data": {
      "text/plain": [
       "<matplotlib.axes._subplots.AxesSubplot at 0x11c561780>"
      ]
     },
     "execution_count": 154,
     "metadata": {},
     "output_type": "execute_result"
    },
    {
     "data": {
      "text/plain": [
       "<matplotlib.axes._subplots.AxesSubplot at 0x11c5b55c0>"
      ]
     },
     "execution_count": 154,
     "metadata": {},
     "output_type": "execute_result"
    },
    {
     "data": {
      "text/plain": [
       "<matplotlib.axes._subplots.AxesSubplot at 0x11c620fd0>"
      ]
     },
     "execution_count": 154,
     "metadata": {},
     "output_type": "execute_result"
    },
    {
     "data": {
      "image/png": "[encoded data removed]",
      "text/plain": [
       "<Figure size 432x288 with 1 Axes>"
      ]
     },
     "metadata": {},
     "output_type": "display_data"
    },
    {
     "data": {
      "image/png": "[encoded data removed]",
      "text/plain": [
       "<Figure size 432x288 with 1 Axes>"
      ]
     },
     "metadata": {},
     "output_type": "display_data"
    },
    {
     "data": {
      "image/png": "[encoded data removed]",
      "text/plain": [
       "<Figure size 432x288 with 1 Axes>"
      ]
     },
     "metadata": {},
     "output_type": "display_data"
    },
    {
     "data": {
      "image/png": "[encoded data removed]",
      "text/plain": [
       "<Figure size 432x288 with 1 Axes>"
      ]
     },
     "metadata": {},
     "output_type": "display_data"
    }
   ],
   "source": [
    "# Conclusions: Plotting over time, it is apparent that David Cameron has a marked increase\n",
    "# in both energy and friendliness\n",
    "\n",
    "# David Cameron\n",
    "dcw.plot(x='YearWeek', y='energy',  color='blue')\n",
    "dcw.plot(x='YearWeek', y='friendliness',  color='blue')\n",
    "\n",
    "# Teresa May\n",
    "tmw.plot(x='YearWeek', y='energy',  color='orange')\n",
    "tmw.plot(x='YearWeek', y='friendliness',  color='orange')"
   ]
  },
  {
   "cell_type": "code",
   "execution_count": 156,
   "metadata": {},
   "outputs": [
    {
     "data": {
      "image/png": "[encoded data removed]",
      "text/plain": [
       "<Figure size 1440x720 with 1 Axes>"
      ]
     },
     "metadata": {},
     "output_type": "display_data"
    }
   ],
   "source": [
    "# Example for a better chart \n",
    "setDC = dcw['energy']\n",
    "\n",
    "fig, ax = plt.subplots(figsize=(20, 10))  \n",
    "index = np.arange(len(dcw)) # the x locations for the groups\n",
    "width = 0.35         # the width of the bars\n",
    "\n",
    "p1 = ax.bar(index, setDC, width, color='r')\n",
    "# p2 = ax.bar(index + width, setTM, width, color='y')\n",
    "\n",
    "ax.set_title('Energy')\n",
    "\n",
    "# set axis ticks, and make visible only 1 every 20\n",
    "ax.set_xticks(index + width )\n",
    "ax.set_xticklabels(dcw['YearWeek'])\n",
    "plt.xticks(fontsize=10, rotation='vertical')\n",
    "for label in ax.get_xticklabels():\n",
    "    label.set_visible(False)\n",
    "for label in ax.get_xticklabels()[::20]:\n",
    "    label.set_visible(True)\n",
    "\n",
    "# Print legend and labels\n",
    "# ax.legend((p1[0]), ('DC'))\n",
    "ax.set_ylabel('Tweets')\n",
    "ax.set_xlabel('Week')\n",
    "\n",
    "ax.autoscale_view()\n",
    "\n",
    "plt.show(); # ; suppresses printouts\n",
    "\n"
   ]
  },
  {
   "cell_type": "code",
   "execution_count": 157,
   "metadata": {},
   "outputs": [
    {
     "data": {
      "image/png": "[encoded data removed]",
      "text/plain": [
       "<Figure size 1440x720 with 1 Axes>"
      ]
     },
     "metadata": {},
     "output_type": "display_data"
    }
   ],
   "source": [
    "# A better chart (example)\n",
    "setTM = tmw['energy']\n",
    "\n",
    "fig, ax = plt.subplots(figsize=(20, 10))  \n",
    "index = np.arange(len(tmw)) # the x locations for the groups\n",
    "width = 0.35         # the width of the bars\n",
    "\n",
    "p1 = ax.bar(index, setTM, width, color='r')\n",
    "# p2 = ax.bar(index + width, setTM, width, color='y')\n",
    "\n",
    "ax.set_title('Energy')\n",
    "\n",
    "# set axis ticks, and make visible only 1 every 20\n",
    "ax.set_xticks(index + width )\n",
    "ax.set_xticklabels(tmw['YearWeek'])\n",
    "plt.xticks(fontsize=10, rotation='vertical')\n",
    "for label in ax.get_xticklabels():\n",
    "    label.set_visible(False)\n",
    "for label in ax.get_xticklabels()[::20]:\n",
    "    label.set_visible(True)\n",
    "\n",
    "# Print legend and labels\n",
    "# ax.legend((p1[0]), ('DC'))\n",
    "ax.set_ylabel('Tweets')\n",
    "ax.set_xlabel('Week')\n",
    "\n",
    "ax.autoscale_view()\n",
    "\n",
    "plt.show();\n",
    "\n"
   ]
  },
  {
   "cell_type": "markdown",
   "metadata": {},
   "source": [
    "## 2.3 Electoral periods energy/friendliness statistics"
   ]
  },
  {
   "cell_type": "code",
   "execution_count": 162,
   "metadata": {},
   "outputs": [
    {
     "name": "stdout",
     "output_type": "stream",
     "text": [
      "DC Energy\n"
     ]
    },
    {
     "data": {
      "text/plain": [
       "0.3987834478108052"
      ]
     },
     "execution_count": 162,
     "metadata": {},
     "output_type": "execute_result"
    },
    {
     "data": {
      "text/plain": [
       "0.3818591459127015"
      ]
     },
     "execution_count": 162,
     "metadata": {},
     "output_type": "execute_result"
    },
    {
     "data": {
      "text/plain": [
       "0.31042478715233246"
      ]
     },
     "execution_count": 162,
     "metadata": {},
     "output_type": "execute_result"
    },
    {
     "data": {
      "text/plain": [
       "0.4111175357692607"
      ]
     },
     "execution_count": 162,
     "metadata": {},
     "output_type": "execute_result"
    },
    {
     "name": "stdout",
     "output_type": "stream",
     "text": [
      "DC Friendliness\n"
     ]
    },
    {
     "data": {
      "text/plain": [
       "1.340945431663262"
      ]
     },
     "execution_count": 162,
     "metadata": {},
     "output_type": "execute_result"
    },
    {
     "data": {
      "text/plain": [
       "1.384781681027868"
      ]
     },
     "execution_count": 162,
     "metadata": {},
     "output_type": "execute_result"
    },
    {
     "data": {
      "text/plain": [
       "1.6185673496926807"
      ]
     },
     "execution_count": 162,
     "metadata": {},
     "output_type": "execute_result"
    },
    {
     "data": {
      "text/plain": [
       "1.1091216206675072"
      ]
     },
     "execution_count": 162,
     "metadata": {},
     "output_type": "execute_result"
    },
    {
     "name": "stdout",
     "output_type": "stream",
     "text": [
      "TM Energy\n"
     ]
    },
    {
     "data": {
      "text/plain": [
       "0.521673776853664"
      ]
     },
     "execution_count": 162,
     "metadata": {},
     "output_type": "execute_result"
    },
    {
     "data": {
      "text/plain": [
       "0.7691984855240557"
      ]
     },
     "execution_count": 162,
     "metadata": {},
     "output_type": "execute_result"
    },
    {
     "name": "stdout",
     "output_type": "stream",
     "text": [
      "TM Friendliness\n"
     ]
    },
    {
     "data": {
      "text/plain": [
       "1.0881648914219169"
      ]
     },
     "execution_count": 162,
     "metadata": {},
     "output_type": "execute_result"
    },
    {
     "data": {
      "text/plain": [
       "1.8374536434335864"
      ]
     },
     "execution_count": 162,
     "metadata": {},
     "output_type": "execute_result"
    }
   ],
   "source": [
    "# Re-extract slices\n",
    "\n",
    "dc_SCOT = dc[(dc['created_at'] >= '2013-03-21') & (dc['created_at'] <= '2014-09-18')]\n",
    "dc_NOTSCOT = dc[(dc['created_at'] < '2013-03-21') | (dc['created_at'] > '2014-09-18')]\n",
    "dc_GE15 = dc[(dc['created_at'] >= '2015-03-30') & (dc['created_at'] <= '2015-05-07')]\n",
    "dc_NOTGE15 = dc[(dc['created_at'] < '2015-03-30') | (dc['created_at'] > '2015-05-07')]\n",
    "dc_EU = dc[(dc['created_at'] >= '2015-12-17') & (dc['created_at'] <= '2016-06-23')]\n",
    "dc_NOTEU = dc[(dc['created_at'] < '2015-12-17') | (dc['created_at'] > '2016-06-23')]\n",
    "tm_GE17 = tm[(tm['created_at'] >= '2017-04-19') & (tm['created_at'] <= '2017-06-08')]\n",
    "tm_NOTGE17 = tm[(tm['created_at'] < '2017-04-19') | (tm['created_at'] > '2017-06-08')]\n",
    "\n",
    "\n",
    "print(\"DC Energy\")\n",
    "\n",
    "dc['energy'].mean()\n",
    "dc_SCOT['energy'].mean()\n",
    "dc_GE15['energy'].mean()\n",
    "dc_EU['energy'].mean()\n",
    "\n",
    "print (\"DC Friendliness\")\n",
    "\n",
    "dc['friendliness'].mean()\n",
    "dc_SCOT['friendliness'].mean()\n",
    "dc_GE15['friendliness'].mean()\n",
    "dc_EU['friendliness'].mean()\n",
    "\n",
    "print (\"TM Energy\")\n",
    "\n",
    "tm['energy'].mean()\n",
    "tm_GE17['energy'].mean()\n",
    "\n",
    "print (\"TM Friendliness\")\n",
    "\n",
    "tm['friendliness'].mean()\n",
    "tm_GE17['friendliness'].mean()\n",
    "\n",
    "\n",
    "# Conclusions: DC had much higher energy during the EU Referendum campaign, \n",
    "# while max friendliness during GE 2015. May had marked higher energy and \n",
    "# friendliness in her only electoral eriod."
   ]
  },
  {
   "cell_type": "markdown",
   "metadata": {
    "collapsed": true
   },
   "source": [
    "# 3. Words association strength (log odds analysis)\n",
    "Here we investigate words associations. For example:\n",
    "* which words associate more strongly with David Cameron vs Theresa May\n",
    "* which David Cameron's words associate more strongly with his electoral periods vs ordinary\n",
    "* etc"
   ]
  },
  {
   "cell_type": "code",
   "execution_count": 164,
   "metadata": {},
   "outputs": [],
   "source": [
    "# Create sets of unique words\n",
    "from collections import Counter\n",
    "\n",
    "dc['lowercase'] = dc['text'].map(lambda x: x.lower())\n",
    "tm['lowercase'] = tm['text'].map(lambda x: x.lower())\n",
    "\n",
    "# Cameron\n",
    "dc_counter = Counter(\" \".join(dc['lowercase']).split(\" \"))\n",
    "dc_counter_frame = pd.DataFrame.from_dict(dc_counter, orient='index')\n",
    "dc_counter_frame.columns = ['count']\n",
    "dc_counter_frame = dc_counter_frame.sort_values(by=['count'], ascending=False)\n",
    "\n",
    "# May\n",
    "tm_counter = Counter(\" \".join(tm['lowercase']).split(\" \"))\n",
    "tm_counter_frame = pd.DataFrame.from_dict(tm_counter, orient='index')#\n",
    "tm_counter_frame.columns = ['count']\n",
    "tm_counter_frame = tm_counter_frame.sort_values(by=['count'], ascending=False)\n"
   ]
  },
  {
   "cell_type": "code",
   "execution_count": 166,
   "metadata": {},
   "outputs": [],
   "source": [
    "# This function returns the log odds ratio for two dataframe, providing the two counter \n",
    "# NB: We use Laplace smoothing: add 1 instead of returning Nan\n",
    "import numpy as np\n",
    "import math\n",
    "def word_log_odds_ratio(word, df1, df2, df1counter, df2counter):\n",
    "    \n",
    "\n",
    "    df1len = len(\" \".join(df1['text']).split(\" \"))\n",
    "    df2len = len(\" \".join(df2['text']).split(\" \"))\n",
    "  \n",
    "    countdf1 = df1counter[df1counter.index == word]['count']\n",
    "    countdf2 = df2counter[df2counter.index == word]['count']\n",
    "\n",
    "    # Laplace smoothing\n",
    "    if len(countdf1) == 0:\n",
    "        countdf1 = 1\n",
    "    else:\n",
    "        countdf1 = countdf1[0]\n",
    "    if len(countdf2) ==0:\n",
    "        countdf2 = 1\n",
    "    else:\n",
    "        countdf2 = countdf2[0]\n",
    "   \n",
    "    p1 = countdf1 * 100 / df1len\n",
    "    p2 = countdf2 * 100 / df2len\n",
    "    logsodd = np.log(p1/p2)\n",
    "\n",
    "    return logsodd\n",
    "    \n",
    "# Example word_log_odds_ratio('me', dc, tm , dc_counter_frame, tm_counter_frame)"
   ]
  },
  {
   "cell_type": "code",
   "execution_count": 171,
   "metadata": {},
   "outputs": [],
   "source": [
    "# To generate a log odds dataframe we need two things\n",
    "# 1. generate a unique set of words (merging the two data frames of DC and TM)\n",
    "# 2. get the log odds for each word\n",
    "# In reality, here it's quicker to just create the df, then drop duplicates\n",
    "\n",
    "logodds = pd.DataFrame(columns=['count'])\n",
    "\n",
    "# Round 1: David Cameron\n",
    "for index, row in dc_counter_frame[dc_counter_frame['count']>5].iterrows():\n",
    "    word = index       \n",
    "    logs = word_log_odds_ratio(word, dc, tm, dc_counter_frame, tm_counter_frame)\n",
    "    logodds.loc[word] = pd.Series({'count':logs})\n",
    "        \n",
    "# Round 2: Theresa May\n",
    "for index, row in tm_counter_frame[tm_counter_frame['count']>5].iterrows():\n",
    "    word = index       \n",
    "    logs = word_log_odds_ratio(word, dc, tm, dc_counter_frame, tm_counter_frame)\n",
    "    logodds.loc[word] = pd.Series({'count':logs})"
   ]
  },
  {
   "cell_type": "code",
   "execution_count": 172,
   "metadata": {},
   "outputs": [
    {
     "data": {
      "text/html": [
       "<div>\n",
       "<style scoped>\n",
       "    .dataframe tbody tr th:only-of-type {\n",
       "        vertical-align: middle;\n",
       "    }\n",
       "\n",
       "    .dataframe tbody tr th {\n",
       "        vertical-align: top;\n",
       "    }\n",
       "\n",
       "    .dataframe thead th {\n",
       "        text-align: right;\n",
       "    }\n",
       "</style>\n",
       "<table border=\"1\" class=\"dataframe\">\n",
       "  <thead>\n",
       "    <tr style=\"text-align: right;\">\n",
       "      <th></th>\n",
       "      <th>count</th>\n",
       "    </tr>\n",
       "  </thead>\n",
       "  <tbody>\n",
       "    <tr>\n",
       "      <th>@10downingstreet:</th>\n",
       "      <td>-5.602114</td>\n",
       "    </tr>\n",
       "    <tr>\n",
       "      <th>@number10gov:</th>\n",
       "      <td>-5.097019</td>\n",
       "    </tr>\n",
       "    <tr>\n",
       "      <th>@theresamay2016</th>\n",
       "      <td>-4.818816</td>\n",
       "    </tr>\n",
       "    <tr>\n",
       "      <th>@theresa_may</th>\n",
       "      <td>-4.403872</td>\n",
       "    </tr>\n",
       "    <tr>\n",
       "      <th>#tm4pm</th>\n",
       "      <td>-4.026578</td>\n",
       "    </tr>\n",
       "    <tr>\n",
       "      <th>.@theresa_may:</th>\n",
       "      <td>-3.792963</td>\n",
       "    </tr>\n",
       "    <tr>\n",
       "      <th>plastic</th>\n",
       "      <td>-3.681737</td>\n",
       "    </tr>\n",
       "    <tr>\n",
       "      <th>street</th>\n",
       "      <td>-3.556574</td>\n",
       "    </tr>\n",
       "    <tr>\n",
       "      <th>#pminchina</th>\n",
       "      <td>-3.487581</td>\n",
       "    </tr>\n",
       "    <tr>\n",
       "      <th>@theresamay2016:</th>\n",
       "      <td>-3.413473</td>\n",
       "    </tr>\n",
       "  </tbody>\n",
       "</table>\n",
       "</div>"
      ],
      "text/plain": [
       "                      count\n",
       "@10downingstreet: -5.602114\n",
       "@number10gov:     -5.097019\n",
       "@theresamay2016   -4.818816\n",
       "@theresa_may      -4.403872\n",
       "#tm4pm            -4.026578\n",
       ".@theresa_may:    -3.792963\n",
       "plastic           -3.681737\n",
       "street            -3.556574\n",
       "#pminchina        -3.487581\n",
       "@theresamay2016:  -3.413473"
      ]
     },
     "execution_count": 172,
     "metadata": {},
     "output_type": "execute_result"
    },
    {
     "data": {
      "text/html": [
       "<div>\n",
       "<style scoped>\n",
       "    .dataframe tbody tr th:only-of-type {\n",
       "        vertical-align: middle;\n",
       "    }\n",
       "\n",
       "    .dataframe tbody tr th {\n",
       "        vertical-align: top;\n",
       "    }\n",
       "\n",
       "    .dataframe thead th {\n",
       "        text-align: right;\n",
       "    }\n",
       "</style>\n",
       "<table border=\"1\" class=\"dataframe\">\n",
       "  <thead>\n",
       "    <tr style=\"text-align: right;\">\n",
       "      <th></th>\n",
       "      <th>count</th>\n",
       "    </tr>\n",
       "  </thead>\n",
       "  <tbody>\n",
       "    <tr>\n",
       "      <th>families.</th>\n",
       "      <td>2.483681</td>\n",
       "    </tr>\n",
       "    <tr>\n",
       "      <th>don't</th>\n",
       "      <td>2.552674</td>\n",
       "    </tr>\n",
       "    <tr>\n",
       "      <th>ed</th>\n",
       "      <td>2.585463</td>\n",
       "    </tr>\n",
       "    <tr>\n",
       "      <th>safer</th>\n",
       "      <td>2.734995</td>\n",
       "    </tr>\n",
       "    <tr>\n",
       "      <th>no10</th>\n",
       "      <td>2.789062</td>\n",
       "    </tr>\n",
       "    <tr>\n",
       "      <th>video</th>\n",
       "      <td>2.815038</td>\n",
       "    </tr>\n",
       "    <tr>\n",
       "      <th>growth</th>\n",
       "      <td>2.912676</td>\n",
       "    </tr>\n",
       "    <tr>\n",
       "      <th>#strongerin</th>\n",
       "      <td>2.980118</td>\n",
       "    </tr>\n",
       "    <tr>\n",
       "      <th>hardworking</th>\n",
       "      <td>3.176828</td>\n",
       "    </tr>\n",
       "    <tr>\n",
       "      <th>#longtermeconomicplan</th>\n",
       "      <td>3.310359</td>\n",
       "    </tr>\n",
       "  </tbody>\n",
       "</table>\n",
       "</div>"
      ],
      "text/plain": [
       "                          count\n",
       "families.              2.483681\n",
       "don't                  2.552674\n",
       "ed                     2.585463\n",
       "safer                  2.734995\n",
       "no10                   2.789062\n",
       "video                  2.815038\n",
       "growth                 2.912676\n",
       "#strongerin            2.980118\n",
       "hardworking            3.176828\n",
       "#longtermeconomicplan  3.310359"
      ]
     },
     "execution_count": 172,
     "metadata": {},
     "output_type": "execute_result"
    }
   ],
   "source": [
    "# Top 10 words associations  TM (negatives), DC (positives)\n",
    "logodds.drop_duplicates().sort_values(by=['count']).head(10)\n",
    "logodds.drop_duplicates().sort_values(by=['count']).tail(10)\n",
    "# To save the full set to file, uncomment the following line\n",
    "# logodds.drop_duplicates().sort_values(by=['count']).to_csv('logsodd.csv')"
   ]
  },
  {
   "cell_type": "code",
   "execution_count": 173,
   "metadata": {},
   "outputs": [
    {
     "data": {
      "text/plain": [
       "<matplotlib.axes._subplots.AxesSubplot at 0x11c843630>"
      ]
     },
     "execution_count": 173,
     "metadata": {},
     "output_type": "execute_result"
    },
    {
     "data": {
      "image/png": "[encoded data removed]",
      "text/plain": [
       "<Figure size 432x288 with 1 Axes>"
      ]
     },
     "metadata": {},
     "output_type": "display_data"
    }
   ],
   "source": [
    "# Visualization of log odds - this needs some work as you cannot really visualize 10,000 words\n",
    "logodds.drop_duplicates().sort_values(by=['count']).plot(kind='barh')"
   ]
  },
  {
   "cell_type": "code",
   "execution_count": 174,
   "metadata": {},
   "outputs": [],
   "source": [
    "# TO BE CONTINUED..."
   ]
  }
 ],
 "metadata": {
  "kernelspec": {
   "display_name": "Python 3",
   "language": "python",
   "name": "python3"
  },
  "language_info": {
   "codemirror_mode": {
    "name": "ipython",
    "version": 3
   },
   "file_extension": ".py",
   "mimetype": "text/x-python",
   "name": "python",
   "nbconvert_exporter": "python",
   "pygments_lexer": "ipython3",
   "version": "3.6.5"
  }
 },
 "nbformat": 4,
 "nbformat_minor": 2
}
