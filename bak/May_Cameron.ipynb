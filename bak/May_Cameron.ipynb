{
 "cells": [
  {
   "cell_type": "code",
   "execution_count": 36,
   "metadata": {},
   "outputs": [],
   "source": [
    "# Library imports / set up\n",
    "import pandas as pd\n",
    "import matplotlib.pyplot as plt\n",
    "%matplotlib inline\n",
    "# display is required to allow multiple prints in each cell\n",
    "from IPython.display import display\n",
    "import numpy as np\n",
    "pd.set_option('display.max_colwidth', -1)"
   ]
  },
  {
   "cell_type": "code",
   "execution_count": 37,
   "metadata": {},
   "outputs": [
    {
     "data": {
      "text/html": [
       "<div>\n",
       "<style scoped>\n",
       "    .dataframe tbody tr th:only-of-type {\n",
       "        vertical-align: middle;\n",
       "    }\n",
       "\n",
       "    .dataframe tbody tr th {\n",
       "        vertical-align: top;\n",
       "    }\n",
       "\n",
       "    .dataframe thead th {\n",
       "        text-align: right;\n",
       "    }\n",
       "</style>\n",
       "<table border=\"1\" class=\"dataframe\">\n",
       "  <thead>\n",
       "    <tr style=\"text-align: right;\">\n",
       "      <th></th>\n",
       "      <th>id</th>\n",
       "      <th>created_at</th>\n",
       "      <th>text</th>\n",
       "    </tr>\n",
       "  </thead>\n",
       "  <tbody>\n",
       "    <tr>\n",
       "      <th>0</th>\n",
       "      <td>1019946110142513152</td>\n",
       "      <td>2018-07-19 14:04:36</td>\n",
       "      <td>Brilliant to see this further investment in Alzheimer’s research. Thank you @BillGates! https://t.co/SRd31NykFx</td>\n",
       "    </tr>\n",
       "  </tbody>\n",
       "</table>\n",
       "</div>"
      ],
      "text/plain": [
       "                    id           created_at  \\\n",
       "0  1019946110142513152  2018-07-19 14:04:36   \n",
       "\n",
       "                                                                                                              text  \n",
       "0  Brilliant to see this further investment in Alzheimer’s research. Thank you @BillGates! https://t.co/SRd31NykFx  "
      ]
     },
     "metadata": {},
     "output_type": "display_data"
    },
    {
     "data": {
      "text/html": [
       "<div>\n",
       "<style scoped>\n",
       "    .dataframe tbody tr th:only-of-type {\n",
       "        vertical-align: middle;\n",
       "    }\n",
       "\n",
       "    .dataframe tbody tr th {\n",
       "        vertical-align: top;\n",
       "    }\n",
       "\n",
       "    .dataframe thead th {\n",
       "        text-align: right;\n",
       "    }\n",
       "</style>\n",
       "<table border=\"1\" class=\"dataframe\">\n",
       "  <thead>\n",
       "    <tr style=\"text-align: right;\">\n",
       "      <th></th>\n",
       "      <th>id</th>\n",
       "      <th>created_at</th>\n",
       "      <th>text</th>\n",
       "    </tr>\n",
       "  </thead>\n",
       "  <tbody>\n",
       "    <tr>\n",
       "      <th>0</th>\n",
       "      <td>1020286313562628098</td>\n",
       "      <td>2018-07-20 12:36:27</td>\n",
       "      <td>Torbay's @thlof do excellent charitable work raising money to help support @TorbaySDevonNHS. Their dedicated volunteers make a huge difference to the local community and patients - and  @kevin_j_foster is a passionate supporter of their work. https://t.co/aqvRqNA5QX</td>\n",
       "    </tr>\n",
       "  </tbody>\n",
       "</table>\n",
       "</div>"
      ],
      "text/plain": [
       "                    id           created_at  \\\n",
       "0  1020286313562628098  2018-07-20 12:36:27   \n",
       "\n",
       "                                                                                                                                                                                                                                                                         text  \n",
       "0  Torbay's @thlof do excellent charitable work raising money to help support @TorbaySDevonNHS. Their dedicated volunteers make a huge difference to the local community and patients - and  @kevin_j_foster is a passionate supporter of their work. https://t.co/aqvRqNA5QX  "
      ]
     },
     "metadata": {},
     "output_type": "display_data"
    },
    {
     "data": {
      "text/plain": [
       "'DC (2680, 3), TM (955, 3)'"
      ]
     },
     "metadata": {},
     "output_type": "display_data"
    }
   ],
   "source": [
    "# Data is read\n",
    "dc = pd.read_csv('david_cameron_tweets.csv', sep=\"|\")\n",
    "tm = pd.read_csv('theresa_may_tweets.csv', sep=\"|\")\n",
    "\n",
    "# Print out first line to make sure data is read ok\n",
    "display(dc.head(1))\n",
    "display(tm.head(1))\n",
    "\n",
    "\n",
    "# Print rows x columns so we're sure it's ok\n",
    "display(\"DC \" + str(dc.shape) + \", TM \" + str(tm.shape) )"
   ]
  },
  {
   "cell_type": "code",
   "execution_count": 38,
   "metadata": {},
   "outputs": [
    {
     "data": {
      "text/plain": [
       "dtype('<M8[ns]')"
      ]
     },
     "execution_count": 38,
     "metadata": {},
     "output_type": "execute_result"
    }
   ],
   "source": [
    "# created_at is likely to be parsed as text\n",
    "# We convert dates to a date/time format so we can do 'maths' on them\n",
    "dc['created_at'] = pd.to_datetime(dc['created_at'], format='%Y-%m-%d %H:%M:%S')\n",
    "tm['created_at'] = pd.to_datetime(tm['created_at'], format='%Y-%m-%d %H:%M:%S')\n",
    "\n",
    "# If ok, dtype should be datetime64[ns] or <M8[ns]\n",
    "dc.created_at.dtype #tm.created_at.dtype"
   ]
  },
  {
   "cell_type": "code",
   "execution_count": 39,
   "metadata": {},
   "outputs": [
    {
     "name": "stdout",
     "output_type": "stream",
     "text": [
      "Min 2012-10-06 16:51:46 Max 2018-07-19 14:04:36\n"
     ]
    }
   ],
   "source": [
    "# DC Min and Max\n",
    "print(\"Min \" + str(dc['created_at'].min()) + \" Max \" + str(dc['created_at'].max()))\n",
    "# Election periods: scottish referendum (pre premiership), pre 2015, and pre 2016 referendum"
   ]
  },
  {
   "cell_type": "code",
   "execution_count": 40,
   "metadata": {},
   "outputs": [
    {
     "name": "stdout",
     "output_type": "stream",
     "text": [
      "Min 2016-06-30 08:05:36 Max 2018-07-20 12:36:27\n"
     ]
    }
   ],
   "source": [
    "# TM Min and Max\n",
    "print(\"Min \" + str(tm['created_at'].min()) + \" Max \" + str(tm['created_at'].max()))"
   ]
  },
  {
   "cell_type": "markdown",
   "metadata": {},
   "source": [
    "# Statistics"
   ]
  },
  {
   "cell_type": "code",
   "execution_count": 41,
   "metadata": {},
   "outputs": [],
   "source": [
    "# Add year/week\n",
    "dc['YearWeek'] = dc['created_at'].apply(lambda x: \"%d/%d\" % (x.year, x.week))\n",
    "tm['YearWeek'] = tm['created_at'].apply(lambda x: \"%d/%d\" % (x.year, x.week))"
   ]
  },
  {
   "cell_type": "code",
   "execution_count": 42,
   "metadata": {},
   "outputs": [
    {
     "data": {
      "text/html": [
       "<div>\n",
       "<style scoped>\n",
       "    .dataframe tbody tr th:only-of-type {\n",
       "        vertical-align: middle;\n",
       "    }\n",
       "\n",
       "    .dataframe tbody tr th {\n",
       "        vertical-align: top;\n",
       "    }\n",
       "\n",
       "    .dataframe thead th {\n",
       "        text-align: right;\n",
       "    }\n",
       "</style>\n",
       "<table border=\"1\" class=\"dataframe\">\n",
       "  <thead>\n",
       "    <tr style=\"text-align: right;\">\n",
       "      <th></th>\n",
       "      <th>id</th>\n",
       "      <th>created_at</th>\n",
       "      <th>text</th>\n",
       "      <th>YearWeek</th>\n",
       "    </tr>\n",
       "  </thead>\n",
       "  <tbody>\n",
       "    <tr>\n",
       "      <th>0</th>\n",
       "      <td>1019946110142513152</td>\n",
       "      <td>2018-07-19 14:04:36</td>\n",
       "      <td>Brilliant to see this further investment in Alzheimer’s research. Thank you @BillGates! https://t.co/SRd31NykFx</td>\n",
       "      <td>2018/29</td>\n",
       "    </tr>\n",
       "    <tr>\n",
       "      <th>1</th>\n",
       "      <td>1017391120945483776</td>\n",
       "      <td>2018-07-12 12:52:00</td>\n",
       "      <td>Delighted that @wigdortz will be the new Chair of @NCSTrust. Have no doubt that he will have every success in taking @NCS on to the next stage in its history.</td>\n",
       "      <td>2018/28</td>\n",
       "    </tr>\n",
       "  </tbody>\n",
       "</table>\n",
       "</div>"
      ],
      "text/plain": [
       "                    id          created_at  \\\n",
       "0  1019946110142513152 2018-07-19 14:04:36   \n",
       "1  1017391120945483776 2018-07-12 12:52:00   \n",
       "\n",
       "                                                                                                                                                             text  \\\n",
       "0  Brilliant to see this further investment in Alzheimer’s research. Thank you @BillGates! https://t.co/SRd31NykFx                                                  \n",
       "1  Delighted that @wigdortz will be the new Chair of @NCSTrust. Have no doubt that he will have every success in taking @NCS on to the next stage in its history.   \n",
       "\n",
       "  YearWeek  \n",
       "0  2018/29  \n",
       "1  2018/28  "
      ]
     },
     "execution_count": 42,
     "metadata": {},
     "output_type": "execute_result"
    }
   ],
   "source": [
    "dc.head(2)"
   ]
  },
  {
   "cell_type": "code",
   "execution_count": 43,
   "metadata": {},
   "outputs": [
    {
     "data": {
      "text/html": [
       "<div>\n",
       "<style scoped>\n",
       "    .dataframe tbody tr th:only-of-type {\n",
       "        vertical-align: middle;\n",
       "    }\n",
       "\n",
       "    .dataframe tbody tr th {\n",
       "        vertical-align: top;\n",
       "    }\n",
       "\n",
       "    .dataframe thead th {\n",
       "        text-align: right;\n",
       "    }\n",
       "</style>\n",
       "<table border=\"1\" class=\"dataframe\">\n",
       "  <thead>\n",
       "    <tr style=\"text-align: right;\">\n",
       "      <th></th>\n",
       "      <th>YearWeek</th>\n",
       "      <th>id</th>\n",
       "      <th>created_at</th>\n",
       "      <th>text</th>\n",
       "    </tr>\n",
       "  </thead>\n",
       "  <tbody>\n",
       "    <tr>\n",
       "      <th>0</th>\n",
       "      <td>2012/40</td>\n",
       "      <td>4</td>\n",
       "      <td>4</td>\n",
       "      <td>4</td>\n",
       "    </tr>\n",
       "    <tr>\n",
       "      <th>1</th>\n",
       "      <td>2012/41</td>\n",
       "      <td>8</td>\n",
       "      <td>8</td>\n",
       "      <td>8</td>\n",
       "    </tr>\n",
       "    <tr>\n",
       "      <th>2</th>\n",
       "      <td>2012/42</td>\n",
       "      <td>4</td>\n",
       "      <td>4</td>\n",
       "      <td>4</td>\n",
       "    </tr>\n",
       "    <tr>\n",
       "      <th>3</th>\n",
       "      <td>2012/43</td>\n",
       "      <td>6</td>\n",
       "      <td>6</td>\n",
       "      <td>6</td>\n",
       "    </tr>\n",
       "    <tr>\n",
       "      <th>4</th>\n",
       "      <td>2012/44</td>\n",
       "      <td>2</td>\n",
       "      <td>2</td>\n",
       "      <td>2</td>\n",
       "    </tr>\n",
       "  </tbody>\n",
       "</table>\n",
       "</div>"
      ],
      "text/plain": [
       "  YearWeek  id  created_at  text\n",
       "0  2012/40  4   4           4   \n",
       "1  2012/41  8   8           8   \n",
       "2  2012/42  4   4           4   \n",
       "3  2012/43  6   6           6   \n",
       "4  2012/44  2   2           2   "
      ]
     },
     "execution_count": 43,
     "metadata": {},
     "output_type": "execute_result"
    }
   ],
   "source": [
    "dc_week = dc.groupby(['YearWeek'])\n",
    "x = dc_week.aggregate(np.count_nonzero)\n",
    "x = x.reset_index(level=['YearWeek'])\n",
    "x.head(5)\n",
    "#dc_week = x[['YearWeek', 'id']].copy()\n",
    "#dc_week.columns = ['YearWeek', 'Count']"
   ]
  },
  {
   "cell_type": "code",
   "execution_count": 44,
   "metadata": {},
   "outputs": [
    {
     "data": {
      "text/html": [
       "<div>\n",
       "<style scoped>\n",
       "    .dataframe tbody tr th:only-of-type {\n",
       "        vertical-align: middle;\n",
       "    }\n",
       "\n",
       "    .dataframe tbody tr th {\n",
       "        vertical-align: top;\n",
       "    }\n",
       "\n",
       "    .dataframe thead th {\n",
       "        text-align: right;\n",
       "    }\n",
       "</style>\n",
       "<table border=\"1\" class=\"dataframe\">\n",
       "  <thead>\n",
       "    <tr style=\"text-align: right;\">\n",
       "      <th></th>\n",
       "      <th>YearWeek</th>\n",
       "      <th>Count</th>\n",
       "    </tr>\n",
       "  </thead>\n",
       "  <tbody>\n",
       "    <tr>\n",
       "      <th>0</th>\n",
       "      <td>2012/40</td>\n",
       "      <td>4</td>\n",
       "    </tr>\n",
       "    <tr>\n",
       "      <th>1</th>\n",
       "      <td>2012/41</td>\n",
       "      <td>8</td>\n",
       "    </tr>\n",
       "    <tr>\n",
       "      <th>2</th>\n",
       "      <td>2012/42</td>\n",
       "      <td>4</td>\n",
       "    </tr>\n",
       "  </tbody>\n",
       "</table>\n",
       "</div>"
      ],
      "text/plain": [
       "  YearWeek  Count\n",
       "0  2012/40  4    \n",
       "1  2012/41  8    \n",
       "2  2012/42  4    "
      ]
     },
     "metadata": {},
     "output_type": "display_data"
    },
    {
     "data": {
      "text/html": [
       "<div>\n",
       "<style scoped>\n",
       "    .dataframe tbody tr th:only-of-type {\n",
       "        vertical-align: middle;\n",
       "    }\n",
       "\n",
       "    .dataframe tbody tr th {\n",
       "        vertical-align: top;\n",
       "    }\n",
       "\n",
       "    .dataframe thead th {\n",
       "        text-align: right;\n",
       "    }\n",
       "</style>\n",
       "<table border=\"1\" class=\"dataframe\">\n",
       "  <thead>\n",
       "    <tr style=\"text-align: right;\">\n",
       "      <th></th>\n",
       "      <th>YearWeek</th>\n",
       "      <th>Count</th>\n",
       "    </tr>\n",
       "  </thead>\n",
       "  <tbody>\n",
       "    <tr>\n",
       "      <th>0</th>\n",
       "      <td>2016/26</td>\n",
       "      <td>44</td>\n",
       "    </tr>\n",
       "    <tr>\n",
       "      <th>1</th>\n",
       "      <td>2016/27</td>\n",
       "      <td>94</td>\n",
       "    </tr>\n",
       "    <tr>\n",
       "      <th>2</th>\n",
       "      <td>2016/28</td>\n",
       "      <td>16</td>\n",
       "    </tr>\n",
       "  </tbody>\n",
       "</table>\n",
       "</div>"
      ],
      "text/plain": [
       "  YearWeek  Count\n",
       "0  2016/26  44   \n",
       "1  2016/27  94   \n",
       "2  2016/28  16   "
      ]
     },
     "metadata": {},
     "output_type": "display_data"
    }
   ],
   "source": [
    "# Aggregate tweet counts per week\n",
    "dc_week = dc.groupby(['YearWeek'])\n",
    "x = dc_week.aggregate(np.count_nonzero)\n",
    "x = x.reset_index(level=['YearWeek'])\n",
    "dc_week = x[['YearWeek', 'id']].copy()\n",
    "dc_week.columns = ['YearWeek', 'Count']\n",
    "\n",
    "tm_week = tm.groupby(['YearWeek'])\n",
    "x = tm_week.aggregate(np.count_nonzero)\n",
    "x = x.reset_index(level=['YearWeek'])\n",
    "tm_week = x[['YearWeek', 'id']].copy()\n",
    "tm_week.columns = ['YearWeek', 'Count']\n",
    "\n",
    "# Make sure it worked\n",
    "display(dc_week.head(3))\n",
    "display(tm_week.head(3))"
   ]
  },
  {
   "cell_type": "code",
   "execution_count": 45,
   "metadata": {},
   "outputs": [
    {
     "data": {
      "text/html": [
       "<div>\n",
       "<style scoped>\n",
       "    .dataframe tbody tr th:only-of-type {\n",
       "        vertical-align: middle;\n",
       "    }\n",
       "\n",
       "    .dataframe tbody tr th {\n",
       "        vertical-align: top;\n",
       "    }\n",
       "\n",
       "    .dataframe thead th {\n",
       "        text-align: right;\n",
       "    }\n",
       "</style>\n",
       "<table border=\"1\" class=\"dataframe\">\n",
       "  <thead>\n",
       "    <tr style=\"text-align: right;\">\n",
       "      <th></th>\n",
       "      <th>YearWeek</th>\n",
       "      <th>DC</th>\n",
       "      <th>TM</th>\n",
       "    </tr>\n",
       "  </thead>\n",
       "  <tbody>\n",
       "    <tr>\n",
       "      <th>0</th>\n",
       "      <td>2012/1</td>\n",
       "      <td>0</td>\n",
       "      <td>0</td>\n",
       "    </tr>\n",
       "    <tr>\n",
       "      <th>1</th>\n",
       "      <td>2012/2</td>\n",
       "      <td>0</td>\n",
       "      <td>0</td>\n",
       "    </tr>\n",
       "    <tr>\n",
       "      <th>2</th>\n",
       "      <td>2012/3</td>\n",
       "      <td>0</td>\n",
       "      <td>0</td>\n",
       "    </tr>\n",
       "    <tr>\n",
       "      <th>3</th>\n",
       "      <td>2012/4</td>\n",
       "      <td>0</td>\n",
       "      <td>0</td>\n",
       "    </tr>\n",
       "    <tr>\n",
       "      <th>4</th>\n",
       "      <td>2012/5</td>\n",
       "      <td>0</td>\n",
       "      <td>0</td>\n",
       "    </tr>\n",
       "  </tbody>\n",
       "</table>\n",
       "</div>"
      ],
      "text/plain": [
       "  YearWeek DC TM\n",
       "0  2012/1   0  0\n",
       "1  2012/2   0  0\n",
       "2  2012/3   0  0\n",
       "3  2012/4   0  0\n",
       "4  2012/5   0  0"
      ]
     },
     "execution_count": 45,
     "metadata": {},
     "output_type": "execute_result"
    }
   ],
   "source": [
    "# Let's put the values for DC, TM, together in a single data frame, for simplicity\n",
    "df = pd.DataFrame(columns=[\"YearWeek\",\"DC\", \"TM\"])\n",
    "\n",
    "i = 0\n",
    "for year in range (2012, 2018):\n",
    "    for week in range (1, 52):\n",
    "        mydate = str(year) + \"/\" + str(week)\n",
    "        \n",
    "        DC = 0\n",
    "        try:\n",
    "            DC = dc_week.loc[dc_week['YearWeek'] == mydate].iloc[0]['Count']\n",
    "        except:\n",
    "            DC = 0\n",
    "            \n",
    "        TM = 0\n",
    "        try:\n",
    "            TM = tm_week.loc[tm_week['YearWeek'] == mydate].iloc[0]['Count']\n",
    "        except:\n",
    "            TM = 0\n",
    "            \n",
    "       \n",
    "        df.loc[i] = [ mydate, int(DC), int(TM) ]\n",
    "        i = i + 1\n",
    "        \n",
    "df.head()"
   ]
  },
  {
   "cell_type": "code",
   "execution_count": 46,
   "metadata": {},
   "outputs": [
    {
     "data": {
      "image/png": "[encoded data removed]",
      "text/plain": [
       "<Figure size 1440x720 with 1 Axes>"
      ]
     },
     "metadata": {},
     "output_type": "display_data"
    }
   ],
   "source": [
    "# Plot (DC vs TM)\n",
    "setDC = df['DC']\n",
    "setTM = df['TM']\n",
    "\n",
    "fig, ax = plt.subplots(figsize=(20, 10))  \n",
    "index = np.arange(len(df)) # the x locations for the groups\n",
    "width = 0.35         # the width of the bars\n",
    "\n",
    "p1 = ax.bar(index, setDC, width, color='r')\n",
    "p2 = ax.bar(index + width, setTM, width, color='y')\n",
    "\n",
    "ax.set_title('Tweets per week, Theresa May vs David Cameron')\n",
    "\n",
    "# set axis ticks, and make visible only 1 every 20\n",
    "ax.set_xticks(index + width )\n",
    "ax.set_xticklabels(df['YearWeek'])\n",
    "plt.xticks(fontsize=10, rotation='vertical')\n",
    "for label in ax.get_xticklabels():\n",
    "    label.set_visible(False)\n",
    "for label in ax.get_xticklabels()[::20]:\n",
    "    label.set_visible(True)\n",
    "\n",
    "# Print legend and labels\n",
    "ax.legend((p1[0], p2[0]), ('DC', 'TM'))\n",
    "ax.set_ylabel('Tweets')\n",
    "ax.set_xlabel('Week')\n",
    "\n",
    "ax.autoscale_view()\n",
    "\n",
    "plt.show()"
   ]
  },
  {
   "cell_type": "markdown",
   "metadata": {},
   "source": [
    "### RQ1. Electoral periods vs non-electoral periods"
   ]
  },
  {
   "cell_type": "code",
   "execution_count": null,
   "metadata": {},
   "outputs": [],
   "source": []
  },
  {
   "cell_type": "markdown",
   "metadata": {},
   "source": [
    "# Content analysis of tweets"
   ]
  },
  {
   "cell_type": "code",
   "execution_count": 13,
   "metadata": {},
   "outputs": [
    {
     "data": {
      "text/html": [
       "<div>\n",
       "<style scoped>\n",
       "    .dataframe tbody tr th:only-of-type {\n",
       "        vertical-align: middle;\n",
       "    }\n",
       "\n",
       "    .dataframe tbody tr th {\n",
       "        vertical-align: top;\n",
       "    }\n",
       "\n",
       "    .dataframe thead th {\n",
       "        text-align: right;\n",
       "    }\n",
       "</style>\n",
       "<table border=\"1\" class=\"dataframe\">\n",
       "  <thead>\n",
       "    <tr style=\"text-align: right;\">\n",
       "      <th></th>\n",
       "      <th>id</th>\n",
       "      <th>created_at</th>\n",
       "      <th>text</th>\n",
       "      <th>YearWeek</th>\n",
       "    </tr>\n",
       "  </thead>\n",
       "  <tbody>\n",
       "    <tr>\n",
       "      <th>0</th>\n",
       "      <td>1019946110142513152</td>\n",
       "      <td>2018-07-19 14:04:36</td>\n",
       "      <td>Brilliant to see this further investment in Alzheimer’s research. Thank you @BillGates! https://t.co/SRd31NykFx</td>\n",
       "      <td>2018/29</td>\n",
       "    </tr>\n",
       "    <tr>\n",
       "      <th>1</th>\n",
       "      <td>1017391120945483776</td>\n",
       "      <td>2018-07-12 12:52:00</td>\n",
       "      <td>Delighted that @wigdortz will be the new Chair of @NCSTrust. Have no doubt that he will have every success in taking @NCS on to the next stage in its history.</td>\n",
       "      <td>2018/28</td>\n",
       "    </tr>\n",
       "    <tr>\n",
       "      <th>2</th>\n",
       "      <td>1017148899474202624</td>\n",
       "      <td>2018-07-11 20:49:30</td>\n",
       "      <td>Well done @England on the fantastic achievement of reaching the #WorldCup semi-finals. It wasn’t to be this time, but you played like lions and made us all so proud. 🦁🦁🦁#ThreeLions</td>\n",
       "      <td>2018/28</td>\n",
       "    </tr>\n",
       "    <tr>\n",
       "      <th>3</th>\n",
       "      <td>1016644620573396992</td>\n",
       "      <td>2018-07-10 11:25:40</td>\n",
       "      <td>Peter Carrington was a lovely man and a great public servant. It was a huge honour having him to Chequers and listening to his stories of working with every Conservative leader from Winston Churchill onwards. Kindness and brilliance in equal measure; he'll be deeply missed. https://t.co/nPxTobnP8Z</td>\n",
       "      <td>2018/28</td>\n",
       "    </tr>\n",
       "    <tr>\n",
       "      <th>4</th>\n",
       "      <td>1015628849009364992</td>\n",
       "      <td>2018-07-07 16:09:21</td>\n",
       "      <td>What an incredible result - well done @England; huge congratulations! Bring on the Semis for #ThreeLions... We’re all proud and cheering you on!</td>\n",
       "      <td>2018/27</td>\n",
       "    </tr>\n",
       "  </tbody>\n",
       "</table>\n",
       "</div>"
      ],
      "text/plain": [
       "                    id          created_at  \\\n",
       "0  1019946110142513152 2018-07-19 14:04:36   \n",
       "1  1017391120945483776 2018-07-12 12:52:00   \n",
       "2  1017148899474202624 2018-07-11 20:49:30   \n",
       "3  1016644620573396992 2018-07-10 11:25:40   \n",
       "4  1015628849009364992 2018-07-07 16:09:21   \n",
       "\n",
       "                                                                                                                                                                                                                                                                                                         text  \\\n",
       "0  Brilliant to see this further investment in Alzheimer’s research. Thank you @BillGates! https://t.co/SRd31NykFx                                                                                                                                                                                              \n",
       "1  Delighted that @wigdortz will be the new Chair of @NCSTrust. Have no doubt that he will have every success in taking @NCS on to the next stage in its history.                                                                                                                                               \n",
       "2  Well done @England on the fantastic achievement of reaching the #WorldCup semi-finals. It wasn’t to be this time, but you played like lions and made us all so proud. 🦁🦁🦁#ThreeLions                                                                                                                         \n",
       "3  Peter Carrington was a lovely man and a great public servant. It was a huge honour having him to Chequers and listening to his stories of working with every Conservative leader from Winston Churchill onwards. Kindness and brilliance in equal measure; he'll be deeply missed. https://t.co/nPxTobnP8Z   \n",
       "4  What an incredible result - well done @England; huge congratulations! Bring on the Semis for #ThreeLions... We’re all proud and cheering you on!                                                                                                                                                             \n",
       "\n",
       "  YearWeek  \n",
       "0  2018/29  \n",
       "1  2018/28  \n",
       "2  2018/28  \n",
       "3  2018/28  \n",
       "4  2018/27  "
      ]
     },
     "execution_count": 13,
     "metadata": {},
     "output_type": "execute_result"
    }
   ],
   "source": [
    "# Just to have the sample dataframe here for comparison\n",
    "dc.head(5)"
   ]
  },
  {
   "cell_type": "code",
   "execution_count": 48,
   "metadata": {},
   "outputs": [],
   "source": [
    "# Here we define energy and friendliness words\n",
    "words_energy = ['believe', 'belief', 'action', 'do', \n",
    "                'take', 'fast', 'quick', 'as soon as possible', 'law', 'legislate', \n",
    "                'respond', 'right', 'wrong']\n",
    "\n",
    "words_friendliness = ['sympathy', 'concern', 'condolences', 'support', 'understand', \n",
    "                      'help', 'assist', 'disaster', 'tragedy']"
   ]
  },
  {
   "cell_type": "code",
   "execution_count": 49,
   "metadata": {},
   "outputs": [],
   "source": [
    "# Word search -> calculate the two indices per week\n",
    "import re\n",
    "import string\n",
    "\n",
    "def indices(df, textColumn, weekColumn):\n",
    "        \n",
    "    output  = []\n",
    "    \n",
    "    # navigate one row at a time\n",
    "    for index, row in df.iterrows():\n",
    "\n",
    "        \n",
    "        # week will be used to index\n",
    "        week = row[weekColumn]\n",
    "        \n",
    "        weekTotalWords = 0\n",
    "        weekEnergyCount = 0\n",
    "        weekFriendlinessCount = 0        \n",
    "    \n",
    "        # process text to make it searchable (add spaces, replace punctuation)\n",
    "        text = \" \" + row[textColumn].lower() + \" \"\n",
    "        translator = str.maketrans('','',string.punctuation)\n",
    "        text = text.translate(translator)\n",
    "        weekTotalWords = sum([1 for i in text.split()])\n",
    "\n",
    "            \n",
    "        # search words in string\n",
    "        for search_word in words_energy:\n",
    "            my_regex = r\" \" + re.escape(search_word) + r\" \"\n",
    "            occurrences = len(re.findall(my_regex, text))\n",
    "            weekEnergyCount= weekEnergyCount + occurrences\n",
    "\n",
    "        \n",
    "        for search_word in words_friendliness:\n",
    "            my_regex = r\" \" + re.escape(search_word) + r\" \"\n",
    "            occurrences = len(re.findall(my_regex, text))\n",
    "            weekFriendlinessCount = weekFriendlinessCount + occurrences\n",
    "        \n",
    "        # Set output\n",
    "        out = dict()\n",
    "        out['YearWeek'] = week\n",
    "        out['weekEnergy'] = weekEnergyCount*100/weekTotalWords\n",
    "        out['weekFriendliness'] = weekFriendlinessCount*100/weekTotalWords\n",
    "        output.append(out)\n",
    "    \n",
    "    return pd.DataFrame(output)"
   ]
  },
  {
   "cell_type": "code",
   "execution_count": 55,
   "metadata": {},
   "outputs": [
    {
     "data": {
      "text/html": [
       "<div>\n",
       "<style scoped>\n",
       "    .dataframe tbody tr th:only-of-type {\n",
       "        vertical-align: middle;\n",
       "    }\n",
       "\n",
       "    .dataframe tbody tr th {\n",
       "        vertical-align: top;\n",
       "    }\n",
       "\n",
       "    .dataframe thead th {\n",
       "        text-align: right;\n",
       "    }\n",
       "</style>\n",
       "<table border=\"1\" class=\"dataframe\">\n",
       "  <thead>\n",
       "    <tr style=\"text-align: right;\">\n",
       "      <th></th>\n",
       "      <th>YearWeek</th>\n",
       "      <th>text</th>\n",
       "    </tr>\n",
       "  </thead>\n",
       "  <tbody>\n",
       "    <tr>\n",
       "      <th>0</th>\n",
       "      <td>2012/40</td>\n",
       "      <td>An excellent speech from @WilliamJHague. Britain will take tough action against illegal arms trade and sexual violence. http://t.co/2Gx7i9H9 About to appear on @MarrShow: I'll be explaining how we're on the side of people who want to get on in life. http://t.co/kDF1xD4f Today I met the nursing team at the John Radcliffe Hospital, and announced £140m to help their work across the country http://t.co/Ztw8c99N I'm starting Conference with this new Twitter feed about my role as Conservative Leader. I promise there won't be \"too many tweets...\"</td>\n",
       "    </tr>\n",
       "    <tr>\n",
       "      <th>1</th>\n",
       "      <td>2012/41</td>\n",
       "      <td>Just leaving what has been a great #cpc12. A big thank you to all involved, we really showed that 'Britain can deliver' http://t.co/Cam3fO3c I’m levelling with the British people in my speech at 11.30. It's sink or swim, do or decline. How we'll ensure Britain wins the Global Race Thanks to my team for squeezing in a quick birthday celebration on this v hectic day. http://t.co/6cPtA2di I'm told some bookmakers are regretting laying odds against this account passing 100,000 followers during conference. I’ll be explaining how we win in the Global Race at 7.25 @Daybreak, 7.40 @BBCBreakfast, 8.10 @BBCr4today, 8.20 @SkyNews Had a really constructive session with Police and Crime Commissioner candidates earlier – ahead of elections on 15 Nov. Just packed some boxes for #supportoursoldiers. Conference has packed 261 so far - let's aim for 1500 by Wednesday http://t.co/qCIQH0m0 Looking forward to hearing George tell #cpc12 why we’re on the right course with our plans on welfare, deficit reduction and growth.</td>\n",
       "    </tr>\n",
       "  </tbody>\n",
       "</table>\n",
       "</div>"
      ],
      "text/plain": [
       "  YearWeek  \\\n",
       "0  2012/40   \n",
       "1  2012/41   \n",
       "\n",
       "                                                                                                                                                                                                                                                                                                                                                                                                                                                                                                                                                                                                                                                                                                                                                                                                                                                                                                                                                                                                                                                      text  \n",
       "0  An excellent speech from @WilliamJHague. Britain will take tough action against illegal arms trade and sexual violence. http://t.co/2Gx7i9H9 About to appear on @MarrShow: I'll be explaining how we're on the side of people who want to get on in life. http://t.co/kDF1xD4f Today I met the nursing team at the John Radcliffe Hospital, and announced £140m to help their work across the country http://t.co/Ztw8c99N I'm starting Conference with this new Twitter feed about my role as Conservative Leader. I promise there won't be \"too many tweets...\"                                                                                                                                                                                                                                                                                                                                                                                                                                                                                        \n",
       "1  Just leaving what has been a great #cpc12. A big thank you to all involved, we really showed that 'Britain can deliver' http://t.co/Cam3fO3c I’m levelling with the British people in my speech at 11.30. It's sink or swim, do or decline. How we'll ensure Britain wins the Global Race Thanks to my team for squeezing in a quick birthday celebration on this v hectic day. http://t.co/6cPtA2di I'm told some bookmakers are regretting laying odds against this account passing 100,000 followers during conference. I’ll be explaining how we win in the Global Race at 7.25 @Daybreak, 7.40 @BBCBreakfast, 8.10 @BBCr4today, 8.20 @SkyNews Had a really constructive session with Police and Crime Commissioner candidates earlier – ahead of elections on 15 Nov. Just packed some boxes for #supportoursoldiers. Conference has packed 261 so far - let's aim for 1500 by Wednesday http://t.co/qCIQH0m0 Looking forward to hearing George tell #cpc12 why we’re on the right course with our plans on welfare, deficit reduction and growth.  "
      ]
     },
     "execution_count": 55,
     "metadata": {},
     "output_type": "execute_result"
    }
   ],
   "source": [
    "# Aggregate by week\n",
    "#dcaggr = dc.groupby(['YearWeek'])['text'].apply(lambda x: ' '.join(x)).reset_index(['YearWeek', 'text'])\n",
    "dcaggr = dc.groupby(['YearWeek'])['text'].apply(lambda x: ' '.join(x)).reset_index(['YearWeek'])\n",
    "tmaggr = tm.groupby(['YearWeek'])['text'].apply(lambda x: ' '.join(x)).reset_index(['YearWeek'])\n",
    "\n",
    "# if you need to compare to compare:\n",
    "# dfme['2012/40'] vs dc[dc['YearWeek']=='2012/40']\n",
    "dcaggr.head(2)"
   ]
  },
  {
   "cell_type": "code",
   "execution_count": 56,
   "metadata": {},
   "outputs": [
    {
     "data": {
      "text/html": [
       "<div>\n",
       "<style scoped>\n",
       "    .dataframe tbody tr th:only-of-type {\n",
       "        vertical-align: middle;\n",
       "    }\n",
       "\n",
       "    .dataframe tbody tr th {\n",
       "        vertical-align: top;\n",
       "    }\n",
       "\n",
       "    .dataframe thead th {\n",
       "        text-align: right;\n",
       "    }\n",
       "</style>\n",
       "<table border=\"1\" class=\"dataframe\">\n",
       "  <thead>\n",
       "    <tr style=\"text-align: right;\">\n",
       "      <th></th>\n",
       "      <th>YearWeek</th>\n",
       "      <th>weekEnergy</th>\n",
       "      <th>weekFriendliness</th>\n",
       "    </tr>\n",
       "  </thead>\n",
       "  <tbody>\n",
       "    <tr>\n",
       "      <th>0</th>\n",
       "      <td>2012/40</td>\n",
       "      <td>2.352941</td>\n",
       "      <td>1.176471</td>\n",
       "    </tr>\n",
       "    <tr>\n",
       "      <th>1</th>\n",
       "      <td>2012/41</td>\n",
       "      <td>1.863354</td>\n",
       "      <td>0.000000</td>\n",
       "    </tr>\n",
       "    <tr>\n",
       "      <th>2</th>\n",
       "      <td>2012/42</td>\n",
       "      <td>1.333333</td>\n",
       "      <td>0.000000</td>\n",
       "    </tr>\n",
       "    <tr>\n",
       "      <th>3</th>\n",
       "      <td>2012/43</td>\n",
       "      <td>1.666667</td>\n",
       "      <td>0.000000</td>\n",
       "    </tr>\n",
       "    <tr>\n",
       "      <th>4</th>\n",
       "      <td>2012/44</td>\n",
       "      <td>0.000000</td>\n",
       "      <td>0.000000</td>\n",
       "    </tr>\n",
       "  </tbody>\n",
       "</table>\n",
       "</div>"
      ],
      "text/plain": [
       "  YearWeek  weekEnergy  weekFriendliness\n",
       "0  2012/40  2.352941    1.176471        \n",
       "1  2012/41  1.863354    0.000000        \n",
       "2  2012/42  1.333333    0.000000        \n",
       "3  2012/43  1.666667    0.000000        \n",
       "4  2012/44  0.000000    0.000000        "
      ]
     },
     "execution_count": 56,
     "metadata": {},
     "output_type": "execute_result"
    }
   ],
   "source": [
    "# David Cameron indices\n",
    "dci = indices(dcaggr, 'text', 'YearWeek')\n",
    "dci.head()"
   ]
  },
  {
   "cell_type": "code",
   "execution_count": 57,
   "metadata": {},
   "outputs": [
    {
     "data": {
      "text/html": [
       "<div>\n",
       "<style scoped>\n",
       "    .dataframe tbody tr th:only-of-type {\n",
       "        vertical-align: middle;\n",
       "    }\n",
       "\n",
       "    .dataframe tbody tr th {\n",
       "        vertical-align: top;\n",
       "    }\n",
       "\n",
       "    .dataframe thead th {\n",
       "        text-align: right;\n",
       "    }\n",
       "</style>\n",
       "<table border=\"1\" class=\"dataframe\">\n",
       "  <thead>\n",
       "    <tr style=\"text-align: right;\">\n",
       "      <th></th>\n",
       "      <th>YearWeek</th>\n",
       "      <th>weekEnergy</th>\n",
       "      <th>weekFriendliness</th>\n",
       "    </tr>\n",
       "  </thead>\n",
       "  <tbody>\n",
       "    <tr>\n",
       "      <th>0</th>\n",
       "      <td>2016/26</td>\n",
       "      <td>0.619579</td>\n",
       "      <td>0.619579</td>\n",
       "    </tr>\n",
       "    <tr>\n",
       "      <th>1</th>\n",
       "      <td>2016/27</td>\n",
       "      <td>0.427122</td>\n",
       "      <td>0.480513</td>\n",
       "    </tr>\n",
       "    <tr>\n",
       "      <th>2</th>\n",
       "      <td>2016/28</td>\n",
       "      <td>0.324675</td>\n",
       "      <td>0.000000</td>\n",
       "    </tr>\n",
       "    <tr>\n",
       "      <th>3</th>\n",
       "      <td>2016/29</td>\n",
       "      <td>0.000000</td>\n",
       "      <td>0.000000</td>\n",
       "    </tr>\n",
       "    <tr>\n",
       "      <th>4</th>\n",
       "      <td>2016/30</td>\n",
       "      <td>0.000000</td>\n",
       "      <td>0.000000</td>\n",
       "    </tr>\n",
       "  </tbody>\n",
       "</table>\n",
       "</div>"
      ],
      "text/plain": [
       "  YearWeek  weekEnergy  weekFriendliness\n",
       "0  2016/26  0.619579    0.619579        \n",
       "1  2016/27  0.427122    0.480513        \n",
       "2  2016/28  0.324675    0.000000        \n",
       "3  2016/29  0.000000    0.000000        \n",
       "4  2016/30  0.000000    0.000000        "
      ]
     },
     "execution_count": 57,
     "metadata": {},
     "output_type": "execute_result"
    }
   ],
   "source": [
    "# Theresa May indices\n",
    "tmi = indices(tmaggr, 'text', 'YearWeek')\n",
    "tmi.head()"
   ]
  },
  {
   "cell_type": "code",
   "execution_count": 58,
   "metadata": {},
   "outputs": [
    {
     "data": {
      "text/plain": [
       "<matplotlib.legend.Legend at 0x117c7c8d0>"
      ]
     },
     "execution_count": 58,
     "metadata": {},
     "output_type": "execute_result"
    },
    {
     "data": {
      "text/plain": [
       "<Figure size 432x288 with 0 Axes>"
      ]
     },
     "metadata": {},
     "output_type": "display_data"
    },
    {
     "data": {
      "image/png": "[encoded data removed]",
      "text/plain": [
       "<Figure size 1440x720 with 1 Axes>"
      ]
     },
     "metadata": {},
     "output_type": "display_data"
    }
   ],
   "source": [
    "# Plot David Cameron\n",
    "plt.figure()\n",
    "fig, ax = plt.subplots(figsize=(20, 10))\n",
    "ax.scatter(dci.index, dci['weekFriendliness'])\n",
    "ax.scatter(dci.index, dci['weekEnergy'])\n",
    "\n",
    "handles, labels = ax.get_legend_handles_labels()\n",
    "ax.legend(handles, labels)"
   ]
  },
  {
   "cell_type": "code",
   "execution_count": 59,
   "metadata": {},
   "outputs": [
    {
     "data": {
      "text/plain": [
       "<matplotlib.legend.Legend at 0x11982ef60>"
      ]
     },
     "execution_count": 59,
     "metadata": {},
     "output_type": "execute_result"
    },
    {
     "data": {
      "text/plain": [
       "<Figure size 432x288 with 0 Axes>"
      ]
     },
     "metadata": {},
     "output_type": "display_data"
    },
    {
     "data": {
      "image/png": "[encoded data removed]",
      "text/plain": [
       "<Figure size 1440x720 with 1 Axes>"
      ]
     },
     "metadata": {},
     "output_type": "display_data"
    }
   ],
   "source": [
    "# Plot Theresa May\n",
    "plt.figure()\n",
    "fig, ax = plt.subplots(figsize=(20, 10))\n",
    "ax.scatter(tmi.index, tmi['weekFriendliness'])\n",
    "ax.scatter(tmi.index, tmi['weekEnergy'])\n",
    "\n",
    "handles, labels = ax.get_legend_handles_labels()\n",
    "ax.legend(handles, labels)"
   ]
  },
  {
   "cell_type": "code",
   "execution_count": 60,
   "metadata": {},
   "outputs": [
    {
     "data": {
      "text/plain": [
       "4.3478260869565215"
      ]
     },
     "execution_count": 60,
     "metadata": {},
     "output_type": "execute_result"
    }
   ],
   "source": [
    "tmi['weekEnergy'].max()"
   ]
  },
  {
   "cell_type": "code",
   "execution_count": 61,
   "metadata": {},
   "outputs": [
    {
     "data": {
      "text/plain": [
       "3.5714285714285716"
      ]
     },
     "execution_count": 61,
     "metadata": {},
     "output_type": "execute_result"
    }
   ],
   "source": [
    "tmi['weekFriendliness'].max()"
   ]
  },
  {
   "cell_type": "code",
   "execution_count": 62,
   "metadata": {},
   "outputs": [
    {
     "data": {
      "text/plain": [
       "5.0"
      ]
     },
     "execution_count": 62,
     "metadata": {},
     "output_type": "execute_result"
    }
   ],
   "source": [
    "dci['weekEnergy'].max()"
   ]
  },
  {
   "cell_type": "code",
   "execution_count": 63,
   "metadata": {},
   "outputs": [
    {
     "data": {
      "text/plain": [
       "9.090909090909092"
      ]
     },
     "execution_count": 63,
     "metadata": {},
     "output_type": "execute_result"
    }
   ],
   "source": [
    "dci['weekFriendliness'].max()"
   ]
  },
  {
   "cell_type": "markdown",
   "metadata": {
    "collapsed": true
   },
   "source": [
    "# Word counts"
   ]
  },
  {
   "cell_type": "code",
   "execution_count": 64,
   "metadata": {},
   "outputs": [
    {
     "data": {
      "text/html": [
       "<div>\n",
       "<style scoped>\n",
       "    .dataframe tbody tr th:only-of-type {\n",
       "        vertical-align: middle;\n",
       "    }\n",
       "\n",
       "    .dataframe tbody tr th {\n",
       "        vertical-align: top;\n",
       "    }\n",
       "\n",
       "    .dataframe thead th {\n",
       "        text-align: right;\n",
       "    }\n",
       "</style>\n",
       "<table border=\"1\" class=\"dataframe\">\n",
       "  <thead>\n",
       "    <tr style=\"text-align: right;\">\n",
       "      <th></th>\n",
       "      <th>id</th>\n",
       "      <th>created_at</th>\n",
       "      <th>text</th>\n",
       "      <th>YearWeek</th>\n",
       "    </tr>\n",
       "  </thead>\n",
       "  <tbody>\n",
       "    <tr>\n",
       "      <th>0</th>\n",
       "      <td>1019946110142513152</td>\n",
       "      <td>2018-07-19 14:04:36</td>\n",
       "      <td>Brilliant to see this further investment in Alzheimer’s research. Thank you @BillGates! https://t.co/SRd31NykFx</td>\n",
       "      <td>2018/29</td>\n",
       "    </tr>\n",
       "    <tr>\n",
       "      <th>1</th>\n",
       "      <td>1017391120945483776</td>\n",
       "      <td>2018-07-12 12:52:00</td>\n",
       "      <td>Delighted that @wigdortz will be the new Chair of @NCSTrust. Have no doubt that he will have every success in taking @NCS on to the next stage in its history.</td>\n",
       "      <td>2018/28</td>\n",
       "    </tr>\n",
       "    <tr>\n",
       "      <th>2</th>\n",
       "      <td>1017148899474202624</td>\n",
       "      <td>2018-07-11 20:49:30</td>\n",
       "      <td>Well done @England on the fantastic achievement of reaching the #WorldCup semi-finals. It wasn’t to be this time, but you played like lions and made us all so proud. 🦁🦁🦁#ThreeLions</td>\n",
       "      <td>2018/28</td>\n",
       "    </tr>\n",
       "    <tr>\n",
       "      <th>3</th>\n",
       "      <td>1016644620573396992</td>\n",
       "      <td>2018-07-10 11:25:40</td>\n",
       "      <td>Peter Carrington was a lovely man and a great public servant. It was a huge honour having him to Chequers and listening to his stories of working with every Conservative leader from Winston Churchill onwards. Kindness and brilliance in equal measure; he'll be deeply missed. https://t.co/nPxTobnP8Z</td>\n",
       "      <td>2018/28</td>\n",
       "    </tr>\n",
       "    <tr>\n",
       "      <th>4</th>\n",
       "      <td>1015628849009364992</td>\n",
       "      <td>2018-07-07 16:09:21</td>\n",
       "      <td>What an incredible result - well done @England; huge congratulations! Bring on the Semis for #ThreeLions... We’re all proud and cheering you on!</td>\n",
       "      <td>2018/27</td>\n",
       "    </tr>\n",
       "  </tbody>\n",
       "</table>\n",
       "</div>"
      ],
      "text/plain": [
       "                    id          created_at  \\\n",
       "0  1019946110142513152 2018-07-19 14:04:36   \n",
       "1  1017391120945483776 2018-07-12 12:52:00   \n",
       "2  1017148899474202624 2018-07-11 20:49:30   \n",
       "3  1016644620573396992 2018-07-10 11:25:40   \n",
       "4  1015628849009364992 2018-07-07 16:09:21   \n",
       "\n",
       "                                                                                                                                                                                                                                                                                                         text  \\\n",
       "0  Brilliant to see this further investment in Alzheimer’s research. Thank you @BillGates! https://t.co/SRd31NykFx                                                                                                                                                                                              \n",
       "1  Delighted that @wigdortz will be the new Chair of @NCSTrust. Have no doubt that he will have every success in taking @NCS on to the next stage in its history.                                                                                                                                               \n",
       "2  Well done @England on the fantastic achievement of reaching the #WorldCup semi-finals. It wasn’t to be this time, but you played like lions and made us all so proud. 🦁🦁🦁#ThreeLions                                                                                                                         \n",
       "3  Peter Carrington was a lovely man and a great public servant. It was a huge honour having him to Chequers and listening to his stories of working with every Conservative leader from Winston Churchill onwards. Kindness and brilliance in equal measure; he'll be deeply missed. https://t.co/nPxTobnP8Z   \n",
       "4  What an incredible result - well done @England; huge congratulations! Bring on the Semis for #ThreeLions... We’re all proud and cheering you on!                                                                                                                                                             \n",
       "\n",
       "  YearWeek  \n",
       "0  2018/29  \n",
       "1  2018/28  \n",
       "2  2018/28  \n",
       "3  2018/28  \n",
       "4  2018/27  "
      ]
     },
     "execution_count": 64,
     "metadata": {},
     "output_type": "execute_result"
    }
   ],
   "source": [
    "dc.head()"
   ]
  },
  {
   "cell_type": "code",
   "execution_count": 65,
   "metadata": {},
   "outputs": [],
   "source": [
    "# Create sets of unique words\n",
    "from collections import Counter\n",
    "\n",
    "dc['text'] = dc['text'].map(lambda x: x.lower())\n",
    "tm['text'] = tm['text'].map(lambda x: x.lower())\n",
    "\n",
    "# Cameron\n",
    "dc_counter = Counter(\" \".join(dc['text']).split(\" \"))\n",
    "dc_counter_frame = pd.DataFrame.from_dict(dc_counter, orient='index')\n",
    "dc_counter_frame.columns = ['count']\n",
    "dc_counter_frame = dc_counter_frame.sort_values(by=['count'], ascending=False)\n",
    "\n",
    "# May\n",
    "tm_counter = Counter(\" \".join(tm['text']).split(\" \"))\n",
    "tm_counter_frame = pd.DataFrame.from_dict(tm_counter, orient='index')\n",
    "tm_counter_frame.columns = ['count']\n",
    "tm_counter_frame = tm_counter_frame.sort_values(by=['count'], ascending=False)\n"
   ]
  },
  {
   "cell_type": "code",
   "execution_count": 66,
   "metadata": {},
   "outputs": [
    {
     "data": {
      "text/plain": [
       "-0.5462429569041"
      ]
     },
     "execution_count": 66,
     "metadata": {},
     "output_type": "execute_result"
    }
   ],
   "source": [
    "# This function returns the log odds ration for two dataframe, providing the two counter \n",
    "import numpy as np\n",
    "import math\n",
    "def word_log_odds_ratio(word, df1, df2, df1counter, df2counter):\n",
    "    # With Laplace smoothing: add 1 instead of returning Nan\n",
    "    \n",
    "    df1len = len(\" \".join(df1['text']).split(\" \"))\n",
    "    df2len = len(\" \".join(df2['text']).split(\" \"))\n",
    "  \n",
    "    countdf1 = df1counter[df1counter.index == word]['count']\n",
    "    countdf2 = df2counter[df2counter.index == word]['count']\n",
    "\n",
    "    # Laplace smoothing\n",
    "    if len(countdf1) == 0:\n",
    "        countdf1 = 1\n",
    "    else:\n",
    "        countdf1 = countdf1[0]\n",
    "    if len(countdf2) ==0:\n",
    "        countdf2 = 1\n",
    "    else:\n",
    "        countdf2 = countdf2[0]\n",
    "   \n",
    "    p1 = countdf1 * 100 / df1len\n",
    "    p2 = countdf2 * 100 / df2len\n",
    "    logsodd = np.log(p1/p2)\n",
    "\n",
    "    return logsodd\n",
    "    \n",
    "word_log_odds_ratio('me', dc, tm , dc_counter_frame, tm_counter_frame)"
   ]
  },
  {
   "cell_type": "code",
   "execution_count": 67,
   "metadata": {},
   "outputs": [],
   "source": [
    "# To generate a log odds dataframe we need two things\n",
    "# 1. generate a unique set of words (merging the two data frames of DC and TM)\n",
    "# 2. get the log odds for each word\n",
    "# In reality, here it's quicker to just create the df, then drop duplicates\n",
    "\n",
    "\n",
    "logodds = pd.DataFrame(columns=['count'])\n",
    "\n",
    "# Round 1: David Cameron\n",
    "for index, row in dc_counter_frame[dc_counter_frame['count']>5].iterrows():\n",
    "    word = index       \n",
    "    logs = word_log_odds_ratio(word, dc, tm, dc_counter_frame, tm_counter_frame)\n",
    "    logodds.loc[word] = pd.Series({'count':logs})\n",
    "        \n",
    "# Round 2: Theresa May\n",
    "for index, row in tm_counter_frame[tm_counter_frame['count']>5].iterrows():\n",
    "    word = index       \n",
    "    logs = word_log_odds_ratio(word, dc, tm, dc_counter_frame, tm_counter_frame)\n",
    "    logodds.loc[word] = pd.Series({'count':logs})\n",
    "    \n",
    "    \n"
   ]
  },
  {
   "cell_type": "code",
   "execution_count": 35,
   "metadata": {},
   "outputs": [
    {
     "ename": "NameError",
     "evalue": "name 'logodds' is not defined",
     "output_type": "error",
     "traceback": [
      "\u001b[0;31m---------------------------------------------------------------------------\u001b[0m",
      "\u001b[0;31mNameError\u001b[0m                                 Traceback (most recent call last)",
      "\u001b[0;32m<ipython-input-35-e66c793976ae>\u001b[0m in \u001b[0;36m<module>\u001b[0;34m()\u001b[0m\n\u001b[0;32m----> 1\u001b[0;31m \u001b[0mlogodds\u001b[0m\u001b[0;34m.\u001b[0m\u001b[0mdrop_duplicates\u001b[0m\u001b[0;34m(\u001b[0m\u001b[0;34m)\u001b[0m\u001b[0;34m.\u001b[0m\u001b[0msort_values\u001b[0m\u001b[0;34m(\u001b[0m\u001b[0mby\u001b[0m\u001b[0;34m=\u001b[0m\u001b[0;34m[\u001b[0m\u001b[0;34m'count'\u001b[0m\u001b[0;34m]\u001b[0m\u001b[0;34m)\u001b[0m\u001b[0;34m.\u001b[0m\u001b[0mhead\u001b[0m\u001b[0;34m(\u001b[0m\u001b[0;36m10\u001b[0m\u001b[0;34m)\u001b[0m\u001b[0;34m\u001b[0m\u001b[0m\n\u001b[0m\u001b[1;32m      2\u001b[0m \u001b[0mlogodds\u001b[0m\u001b[0;34m.\u001b[0m\u001b[0mdrop_duplicates\u001b[0m\u001b[0;34m(\u001b[0m\u001b[0;34m)\u001b[0m\u001b[0;34m.\u001b[0m\u001b[0msort_values\u001b[0m\u001b[0;34m(\u001b[0m\u001b[0mby\u001b[0m\u001b[0;34m=\u001b[0m\u001b[0;34m[\u001b[0m\u001b[0;34m'count'\u001b[0m\u001b[0;34m]\u001b[0m\u001b[0;34m)\u001b[0m\u001b[0;34m.\u001b[0m\u001b[0mtail\u001b[0m\u001b[0;34m(\u001b[0m\u001b[0;34m)\u001b[0m\u001b[0;34m\u001b[0m\u001b[0m\n",
      "\u001b[0;31mNameError\u001b[0m: name 'logodds' is not defined"
     ]
    }
   ],
   "source": [
    "logodds.drop_duplicates().sort_values(by=['count']).head(10)\n",
    "logodds.drop_duplicates().sort_values(by=['count']).tail()"
   ]
  },
  {
   "cell_type": "code",
   "execution_count": 69,
   "metadata": {},
   "outputs": [],
   "source": [
    "logodds.drop_duplicates().sort_values(by=['count']).to_csv('logsodd.csv')"
   ]
  },
  {
   "cell_type": "code",
   "execution_count": 70,
   "metadata": {},
   "outputs": [
    {
     "data": {
      "text/plain": [
       "<matplotlib.axes._subplots.AxesSubplot at 0x117bc9630>"
      ]
     },
     "execution_count": 70,
     "metadata": {},
     "output_type": "execute_result"
    },
    {
     "data": {
      "image/png": "[encoded data removed]",
      "text/plain": [
       "<Figure size 432x288 with 1 Axes>"
      ]
     },
     "metadata": {},
     "output_type": "display_data"
    }
   ],
   "source": [
    "logodds.drop_duplicates().sort_values(by=['count']).plot(kind='barh')"
   ]
  },
  {
   "cell_type": "code",
   "execution_count": 71,
   "metadata": {},
   "outputs": [
    {
     "data": {
      "text/plain": [
       "-2.4159137783010487"
      ]
     },
     "execution_count": 71,
     "metadata": {},
     "output_type": "execute_result"
    }
   ],
   "source": [
    "np.log(0.025/0.28)"
   ]
  },
  {
   "cell_type": "code",
   "execution_count": 72,
   "metadata": {},
   "outputs": [
    {
     "data": {
      "text/plain": [
       "-2.4159137783010487"
      ]
     },
     "execution_count": 72,
     "metadata": {},
     "output_type": "execute_result"
    }
   ],
   "source": [
    "np.log(0.00025/0.0028)"
   ]
  },
  {
   "cell_type": "code",
   "execution_count": 73,
   "metadata": {},
   "outputs": [],
   "source": [
    "dc_counter_frame.to_csv('dc_count.csv')\n",
    "tm_counter_frame.to_csv('tm_count.csv')\n"
   ]
  },
  {
   "cell_type": "code",
   "execution_count": 74,
   "metadata": {},
   "outputs": [
    {
     "data": {
      "text/plain": [
       "53868"
      ]
     },
     "execution_count": 74,
     "metadata": {},
     "output_type": "execute_result"
    }
   ],
   "source": [
    "len(\" \".join(dc['text']).split(\" \"))"
   ]
  },
  {
   "cell_type": "code",
   "execution_count": 75,
   "metadata": {},
   "outputs": [
    {
     "data": {
      "text/plain": [
       "23058"
      ]
     },
     "execution_count": 75,
     "metadata": {},
     "output_type": "execute_result"
    }
   ],
   "source": [
    "len(\" \".join(tm['text']).split(\" \"))"
   ]
  },
  {
   "cell_type": "markdown",
   "metadata": {},
   "source": [
    "# Behaviour during campaigns"
   ]
  },
  {
   "cell_type": "markdown",
   "metadata": {},
   "source": [
    "## General Election 2015 vs 'normal period' for DC"
   ]
  },
  {
   "cell_type": "code",
   "execution_count": 34,
   "metadata": {},
   "outputs": [
    {
     "name": "stdout",
     "output_type": "stream",
     "text": [
      "Ok\n"
     ]
    }
   ],
   "source": [
    "# Definition of the period from dissolution to election (inclusive)\n",
    "dc2015 = dc[(dc['created_at'] >= '2015-03-30') & (dc['created_at'] <= '2015-05-07')]\n",
    "dcelse = dc[(dc['created_at'] < '2015-03-30') | (dc['created_at'] > '2015-05-07')]\n",
    "\n",
    "if ((dc2015.shape[0] + dcelse.shape[0]) == dc.shape[0] ):\n",
    "    print(\"Ok\")"
   ]
  },
  {
   "cell_type": "code",
   "execution_count": 63,
   "metadata": {},
   "outputs": [
    {
     "ename": "TypeError",
     "evalue": "'>=' not supported between instances of 'datetime.time' and 'str'",
     "output_type": "error",
     "traceback": [
      "\u001b[0;31m---------------------------------------------------------------------------\u001b[0m",
      "\u001b[0;31mTypeError\u001b[0m                                 Traceback (most recent call last)",
      "\u001b[0;32m<ipython-input-63-0b076d8e3e5f>\u001b[0m in \u001b[0;36m<module>\u001b[0;34m()\u001b[0m\n\u001b[1;32m      2\u001b[0m \u001b[0mmydata\u001b[0m \u001b[0;34m=\u001b[0m \u001b[0mdc2015\u001b[0m\u001b[0;34m.\u001b[0m\u001b[0mcopy\u001b[0m\u001b[0;34m(\u001b[0m\u001b[0;34m)\u001b[0m\u001b[0;34m\u001b[0m\u001b[0m\n\u001b[1;32m      3\u001b[0m \u001b[0;31m# mydata['new'] = dc2015['created_at'].dt.hour\u001b[0m\u001b[0;34m\u001b[0m\u001b[0;34m\u001b[0m\u001b[0m\n\u001b[0;32m----> 4\u001b[0;31m \u001b[0mmydata\u001b[0m\u001b[0;34m[\u001b[0m\u001b[0;34m'new'\u001b[0m\u001b[0;34m]\u001b[0m \u001b[0;34m=\u001b[0m \u001b[0mnp\u001b[0m\u001b[0;34m.\u001b[0m\u001b[0mwhere\u001b[0m\u001b[0;34m(\u001b[0m\u001b[0;34m(\u001b[0m\u001b[0mmydata\u001b[0m\u001b[0;34m[\u001b[0m\u001b[0;34m'created_at'\u001b[0m\u001b[0;34m]\u001b[0m\u001b[0;34m.\u001b[0m\u001b[0mdt\u001b[0m\u001b[0;34m.\u001b[0m\u001b[0mtime\u001b[0m \u001b[0;34m>=\u001b[0m \u001b[0;34m'0:00'\u001b[0m\u001b[0;34m)\u001b[0m \u001b[0;34m&\u001b[0m \u001b[0;34m(\u001b[0m\u001b[0mmydata\u001b[0m\u001b[0;34m[\u001b[0m\u001b[0;34m'created_at'\u001b[0m\u001b[0;34m]\u001b[0m\u001b[0;34m.\u001b[0m\u001b[0mdt\u001b[0m\u001b[0;34m.\u001b[0m\u001b[0mtime\u001b[0m \u001b[0;34m<\u001b[0m \u001b[0;34m'12:00'\u001b[0m\u001b[0;34m)\u001b[0m\u001b[0;34m,\u001b[0m \u001b[0;34m'morning'\u001b[0m\u001b[0;34m,\u001b[0m \u001b[0;34m'evening'\u001b[0m\u001b[0;34m)\u001b[0m\u001b[0;34m\u001b[0m\u001b[0m\n\u001b[0m",
      "\u001b[0;32m~/anaconda3/lib/python3.6/site-packages/pandas/core/ops.py\u001b[0m in \u001b[0;36mwrapper\u001b[0;34m(self, other, axis)\u001b[0m\n\u001b[1;32m   1251\u001b[0m \u001b[0;34m\u001b[0m\u001b[0m\n\u001b[1;32m   1252\u001b[0m             \u001b[0;32mwith\u001b[0m \u001b[0mnp\u001b[0m\u001b[0;34m.\u001b[0m\u001b[0merrstate\u001b[0m\u001b[0;34m(\u001b[0m\u001b[0mall\u001b[0m\u001b[0;34m=\u001b[0m\u001b[0;34m'ignore'\u001b[0m\u001b[0;34m)\u001b[0m\u001b[0;34m:\u001b[0m\u001b[0;34m\u001b[0m\u001b[0m\n\u001b[0;32m-> 1253\u001b[0;31m                 \u001b[0mres\u001b[0m \u001b[0;34m=\u001b[0m \u001b[0mna_op\u001b[0m\u001b[0;34m(\u001b[0m\u001b[0mvalues\u001b[0m\u001b[0;34m,\u001b[0m \u001b[0mother\u001b[0m\u001b[0;34m)\u001b[0m\u001b[0;34m\u001b[0m\u001b[0m\n\u001b[0m\u001b[1;32m   1254\u001b[0m             \u001b[0;32mif\u001b[0m \u001b[0mis_scalar\u001b[0m\u001b[0;34m(\u001b[0m\u001b[0mres\u001b[0m\u001b[0;34m)\u001b[0m\u001b[0;34m:\u001b[0m\u001b[0;34m\u001b[0m\u001b[0m\n\u001b[1;32m   1255\u001b[0m                 raise TypeError('Could not compare {typ} type with Series'\n",
      "\u001b[0;32m~/anaconda3/lib/python3.6/site-packages/pandas/core/ops.py\u001b[0m in \u001b[0;36mna_op\u001b[0;34m(x, y)\u001b[0m\n\u001b[1;32m   1138\u001b[0m \u001b[0;34m\u001b[0m\u001b[0m\n\u001b[1;32m   1139\u001b[0m         \u001b[0;32melif\u001b[0m \u001b[0mis_object_dtype\u001b[0m\u001b[0;34m(\u001b[0m\u001b[0mx\u001b[0m\u001b[0;34m.\u001b[0m\u001b[0mdtype\u001b[0m\u001b[0;34m)\u001b[0m\u001b[0;34m:\u001b[0m\u001b[0;34m\u001b[0m\u001b[0m\n\u001b[0;32m-> 1140\u001b[0;31m             \u001b[0mresult\u001b[0m \u001b[0;34m=\u001b[0m \u001b[0m_comp_method_OBJECT_ARRAY\u001b[0m\u001b[0;34m(\u001b[0m\u001b[0mop\u001b[0m\u001b[0;34m,\u001b[0m \u001b[0mx\u001b[0m\u001b[0;34m,\u001b[0m \u001b[0my\u001b[0m\u001b[0;34m)\u001b[0m\u001b[0;34m\u001b[0m\u001b[0m\n\u001b[0m\u001b[1;32m   1141\u001b[0m \u001b[0;34m\u001b[0m\u001b[0m\n\u001b[1;32m   1142\u001b[0m         \u001b[0;32melif\u001b[0m \u001b[0mis_datetimelike_v_numeric\u001b[0m\u001b[0;34m(\u001b[0m\u001b[0mx\u001b[0m\u001b[0;34m,\u001b[0m \u001b[0my\u001b[0m\u001b[0;34m)\u001b[0m\u001b[0;34m:\u001b[0m\u001b[0;34m\u001b[0m\u001b[0m\n",
      "\u001b[0;32m~/anaconda3/lib/python3.6/site-packages/pandas/core/ops.py\u001b[0m in \u001b[0;36m_comp_method_OBJECT_ARRAY\u001b[0;34m(op, x, y)\u001b[0m\n\u001b[1;32m   1117\u001b[0m         \u001b[0mresult\u001b[0m \u001b[0;34m=\u001b[0m \u001b[0mlibops\u001b[0m\u001b[0;34m.\u001b[0m\u001b[0mvec_compare\u001b[0m\u001b[0;34m(\u001b[0m\u001b[0mx\u001b[0m\u001b[0;34m,\u001b[0m \u001b[0my\u001b[0m\u001b[0;34m,\u001b[0m \u001b[0mop\u001b[0m\u001b[0;34m)\u001b[0m\u001b[0;34m\u001b[0m\u001b[0m\n\u001b[1;32m   1118\u001b[0m     \u001b[0;32melse\u001b[0m\u001b[0;34m:\u001b[0m\u001b[0;34m\u001b[0m\u001b[0m\n\u001b[0;32m-> 1119\u001b[0;31m         \u001b[0mresult\u001b[0m \u001b[0;34m=\u001b[0m \u001b[0mlibops\u001b[0m\u001b[0;34m.\u001b[0m\u001b[0mscalar_compare\u001b[0m\u001b[0;34m(\u001b[0m\u001b[0mx\u001b[0m\u001b[0;34m,\u001b[0m \u001b[0my\u001b[0m\u001b[0;34m,\u001b[0m \u001b[0mop\u001b[0m\u001b[0;34m)\u001b[0m\u001b[0;34m\u001b[0m\u001b[0m\n\u001b[0m\u001b[1;32m   1120\u001b[0m     \u001b[0;32mreturn\u001b[0m \u001b[0mresult\u001b[0m\u001b[0;34m\u001b[0m\u001b[0m\n\u001b[1;32m   1121\u001b[0m \u001b[0;34m\u001b[0m\u001b[0m\n",
      "\u001b[0;32mpandas/_libs/ops.pyx\u001b[0m in \u001b[0;36mpandas._libs.ops.scalar_compare\u001b[0;34m()\u001b[0m\n",
      "\u001b[0;31mTypeError\u001b[0m: '>=' not supported between instances of 'datetime.time' and 'str'"
     ]
    }
   ],
   "source": [
    "import datetime as dt\n",
    "mydata = dc2015.copy()\n",
    "# mydata['new'] = dc2015['created_at'].dt.hour\n",
    "mydata['new'] = np.where((mydata['created_at'].dt.time >= '0:00') & (mydata['created_at'].dt.time < '12:00'), 'morning', 'evening')"
   ]
  },
  {
   "cell_type": "code",
   "execution_count": null,
   "metadata": {},
   "outputs": [],
   "source": [
    "# Ideas\n",
    "# 1. % am/pm normal vs election periods, Polargraph\n",
    "# 2. log odds"
   ]
  },
  {
   "cell_type": "markdown",
   "metadata": {},
   "source": [
    "# Log-odds election vs non-election"
   ]
  },
  {
   "cell_type": "code",
   "execution_count": null,
   "metadata": {},
   "outputs": [],
   "source": []
  }
 ],
 "metadata": {
  "kernelspec": {
   "display_name": "Python 3",
   "language": "python",
   "name": "python3"
  },
  "language_info": {
   "codemirror_mode": {
    "name": "ipython",
    "version": 3
   },
   "file_extension": ".py",
   "mimetype": "text/x-python",
   "name": "python",
   "nbconvert_exporter": "python",
   "pygments_lexer": "ipython3",
   "version": "3.6.5"
  }
 },
 "nbformat": 4,
 "nbformat_minor": 2
}
