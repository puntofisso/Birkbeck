{
 "cells": [
  {
   "cell_type": "code",
   "execution_count": 11,
   "metadata": {
    "collapsed": true
   },
   "outputs": [],
   "source": [
    "# Library imports / set up\n",
    "import pandas as pd\n",
    "import matplotlib.pyplot as plt\n",
    "%matplotlib inline\n",
    "# display is required to allow multiple prints in each cell\n",
    "from IPython.display import display\n",
    "import numpy as np"
   ]
  },
  {
   "cell_type": "code",
   "execution_count": 7,
   "metadata": {},
   "outputs": [
    {
     "data": {
      "text/html": [
       "<div>\n",
       "<table border=\"1\" class=\"dataframe\">\n",
       "  <thead>\n",
       "    <tr style=\"text-align: right;\">\n",
       "      <th></th>\n",
       "      <th>id</th>\n",
       "      <th>created_at</th>\n",
       "      <th>text</th>\n",
       "    </tr>\n",
       "  </thead>\n",
       "  <tbody>\n",
       "    <tr>\n",
       "      <th>0</th>\n",
       "      <td>976807128877928448</td>\n",
       "      <td>2018-03-22 13:05:42</td>\n",
       "      <td>People wrongly believe that dementia is an ine...</td>\n",
       "    </tr>\n",
       "  </tbody>\n",
       "</table>\n",
       "</div>"
      ],
      "text/plain": [
       "                   id           created_at  \\\n",
       "0  976807128877928448  2018-03-22 13:05:42   \n",
       "\n",
       "                                                text  \n",
       "0  People wrongly believe that dementia is an ine...  "
      ]
     },
     "metadata": {},
     "output_type": "display_data"
    },
    {
     "data": {
      "text/html": [
       "<div>\n",
       "<table border=\"1\" class=\"dataframe\">\n",
       "  <thead>\n",
       "    <tr style=\"text-align: right;\">\n",
       "      <th></th>\n",
       "      <th>id</th>\n",
       "      <th>created_at</th>\n",
       "      <th>text</th>\n",
       "    </tr>\n",
       "  </thead>\n",
       "  <tbody>\n",
       "    <tr>\n",
       "      <th>0</th>\n",
       "      <td>979752503309946882</td>\n",
       "      <td>2018-03-30 16:09:34</td>\n",
       "      <td>RT @10DowningStreet: \"I wish you all a very ha...</td>\n",
       "    </tr>\n",
       "  </tbody>\n",
       "</table>\n",
       "</div>"
      ],
      "text/plain": [
       "                   id           created_at  \\\n",
       "0  979752503309946882  2018-03-30 16:09:34   \n",
       "\n",
       "                                                text  \n",
       "0  RT @10DowningStreet: \"I wish you all a very ha...  "
      ]
     },
     "metadata": {},
     "output_type": "display_data"
    },
    {
     "data": {
      "text/html": [
       "<div>\n",
       "<table border=\"1\" class=\"dataframe\">\n",
       "  <thead>\n",
       "    <tr style=\"text-align: right;\">\n",
       "      <th></th>\n",
       "      <th>id</th>\n",
       "      <th>created_at</th>\n",
       "      <th>text</th>\n",
       "    </tr>\n",
       "  </thead>\n",
       "  <tbody>\n",
       "    <tr>\n",
       "      <th>0</th>\n",
       "      <td>980032266616393728</td>\n",
       "      <td>2018-03-31 10:41:15</td>\n",
       "      <td>C’mon Munster. Looking forward to a good day i...</td>\n",
       "    </tr>\n",
       "  </tbody>\n",
       "</table>\n",
       "</div>"
      ],
      "text/plain": [
       "                   id           created_at  \\\n",
       "0  980032266616393728  2018-03-31 10:41:15   \n",
       "\n",
       "                                                text  \n",
       "0  C’mon Munster. Looking forward to a good day i...  "
      ]
     },
     "metadata": {},
     "output_type": "display_data"
    },
    {
     "data": {
      "text/plain": [
       "'DC (2648, 3), TM (733, 3), LV (3233, 3)'"
      ]
     },
     "metadata": {},
     "output_type": "display_data"
    }
   ],
   "source": [
    "# Data is read\n",
    "dc = pd.read_csv('david_cameron_tweets.csv')\n",
    "tm = pd.read_csv('theresa_may_tweets.csv')\n",
    "lv = pd.read_csv('campaignforleo_tweets.csv')\n",
    "\n",
    "# Print out first line to make sure data is read ok\n",
    "display(dc.head(1))\n",
    "display(tm.head(1))\n",
    "display(lv.head(1))\n",
    "\n",
    "# Print rows x columns so we're sure it's ok\n",
    "display(\"DC \" + str(dc.shape) + \", TM \" + str(tm.shape) + \", LV \" + str(lv.shape))"
   ]
  },
  {
   "cell_type": "code",
   "execution_count": 8,
   "metadata": {},
   "outputs": [
    {
     "data": {
      "text/plain": [
       "dtype('<M8[ns]')"
      ]
     },
     "execution_count": 8,
     "metadata": {},
     "output_type": "execute_result"
    }
   ],
   "source": [
    "# created_at is likely to be parsed as text\n",
    "# We convert dates to a date/time format so we can do 'maths' on them\n",
    "dc['created_at'] = pd.to_datetime(dc['created_at'], format='%Y-%m-%d %H:%M:%S')\n",
    "tm['created_at'] = pd.to_datetime(tm['created_at'], format='%Y-%m-%d %H:%M:%S')\n",
    "lv['created_at'] = pd.to_datetime(lv['created_at'], format='%Y-%m-%d %H:%M:%S')\n",
    "# If ok, dtype should be datetime64[ns] or <M8[ns]\n",
    "dc.created_at.dtype\n",
    "#tm.created_at.dtype\n",
    "#lv.created_at.dtype"
   ]
  },
  {
   "cell_type": "markdown",
   "metadata": {},
   "source": [
    "# Statistics"
   ]
  },
  {
   "cell_type": "code",
   "execution_count": 9,
   "metadata": {
    "collapsed": true
   },
   "outputs": [],
   "source": [
    "# Add year/week\n",
    "dc['YearWeek'] = dc['created_at'].apply(lambda x: \"%d/%d\" % (x.year, x.week))\n",
    "tm['YearWeek'] = tm['created_at'].apply(lambda x: \"%d/%d\" % (x.year, x.week))\n",
    "lv['YearWeek'] = lv['created_at'].apply(lambda x: \"%d/%d\" % (x.year, x.week))"
   ]
  },
  {
   "cell_type": "code",
   "execution_count": 12,
   "metadata": {},
   "outputs": [
    {
     "data": {
      "text/html": [
       "<div>\n",
       "<table border=\"1\" class=\"dataframe\">\n",
       "  <thead>\n",
       "    <tr style=\"text-align: right;\">\n",
       "      <th></th>\n",
       "      <th>YearWeek</th>\n",
       "      <th>Count</th>\n",
       "    </tr>\n",
       "  </thead>\n",
       "  <tbody>\n",
       "    <tr>\n",
       "      <th>0</th>\n",
       "      <td>2012/40</td>\n",
       "      <td>4</td>\n",
       "    </tr>\n",
       "    <tr>\n",
       "      <th>1</th>\n",
       "      <td>2012/41</td>\n",
       "      <td>8</td>\n",
       "    </tr>\n",
       "    <tr>\n",
       "      <th>2</th>\n",
       "      <td>2012/42</td>\n",
       "      <td>4</td>\n",
       "    </tr>\n",
       "  </tbody>\n",
       "</table>\n",
       "</div>"
      ],
      "text/plain": [
       "  YearWeek  Count\n",
       "0  2012/40      4\n",
       "1  2012/41      8\n",
       "2  2012/42      4"
      ]
     },
     "metadata": {},
     "output_type": "display_data"
    },
    {
     "data": {
      "text/html": [
       "<div>\n",
       "<table border=\"1\" class=\"dataframe\">\n",
       "  <thead>\n",
       "    <tr style=\"text-align: right;\">\n",
       "      <th></th>\n",
       "      <th>YearWeek</th>\n",
       "      <th>Count</th>\n",
       "    </tr>\n",
       "  </thead>\n",
       "  <tbody>\n",
       "    <tr>\n",
       "      <th>0</th>\n",
       "      <td>2016/26</td>\n",
       "      <td>45</td>\n",
       "    </tr>\n",
       "    <tr>\n",
       "      <th>1</th>\n",
       "      <td>2016/27</td>\n",
       "      <td>94</td>\n",
       "    </tr>\n",
       "    <tr>\n",
       "      <th>2</th>\n",
       "      <td>2016/28</td>\n",
       "      <td>16</td>\n",
       "    </tr>\n",
       "  </tbody>\n",
       "</table>\n",
       "</div>"
      ],
      "text/plain": [
       "  YearWeek  Count\n",
       "0  2016/26     45\n",
       "1  2016/27     94\n",
       "2  2016/28     16"
      ]
     },
     "metadata": {},
     "output_type": "display_data"
    },
    {
     "data": {
      "text/html": [
       "<div>\n",
       "<table border=\"1\" class=\"dataframe\">\n",
       "  <thead>\n",
       "    <tr style=\"text-align: right;\">\n",
       "      <th></th>\n",
       "      <th>YearWeek</th>\n",
       "      <th>Count</th>\n",
       "    </tr>\n",
       "  </thead>\n",
       "  <tbody>\n",
       "    <tr>\n",
       "      <th>0</th>\n",
       "      <td>2015/13</td>\n",
       "      <td>5</td>\n",
       "    </tr>\n",
       "    <tr>\n",
       "      <th>1</th>\n",
       "      <td>2015/14</td>\n",
       "      <td>13</td>\n",
       "    </tr>\n",
       "    <tr>\n",
       "      <th>2</th>\n",
       "      <td>2015/15</td>\n",
       "      <td>10</td>\n",
       "    </tr>\n",
       "  </tbody>\n",
       "</table>\n",
       "</div>"
      ],
      "text/plain": [
       "  YearWeek  Count\n",
       "0  2015/13      5\n",
       "1  2015/14     13\n",
       "2  2015/15     10"
      ]
     },
     "metadata": {},
     "output_type": "display_data"
    }
   ],
   "source": [
    "# Aggregate tweet counts per week\n",
    "# (TODO there are probably better, and more pythonesque, ways of doing this)\n",
    "dc_week = dc.groupby(['YearWeek'])\n",
    "x = dc_week.aggregate(np.count_nonzero)\n",
    "x = x.reset_index(level=['YearWeek'])\n",
    "dc_week = x[['YearWeek', 'id']].copy()\n",
    "dc_week.columns = ['YearWeek', 'Count']\n",
    "\n",
    "tm_week = tm.groupby(['YearWeek'])\n",
    "x = tm_week.aggregate(np.count_nonzero)\n",
    "x = x.reset_index(level=['YearWeek'])\n",
    "tm_week = x[['YearWeek', 'id']].copy()\n",
    "tm_week.columns = ['YearWeek', 'Count']\n",
    "\n",
    "lv_week = lv.groupby(['YearWeek'])\n",
    "x = lv_week.aggregate(np.count_nonzero)\n",
    "x = x.reset_index(level=['YearWeek'])\n",
    "lv_week = x[['YearWeek', 'id']].copy()\n",
    "lv_week.columns = ['YearWeek', 'Count']\n",
    "\n",
    "# Make sure it worked\n",
    "display(dc_week.head(3))\n",
    "display(tm_week.head(3))\n",
    "display(lv_week.head(3))\n"
   ]
  },
  {
   "cell_type": "code",
   "execution_count": 13,
   "metadata": {
    "collapsed": true
   },
   "outputs": [],
   "source": [
    "# Let's put the values for DC, TM, and LV, together in a single data frame, for simplicity\n",
    "df = pd.DataFrame(columns=[\"YearWeek\",\"DC\", \"TM\", \"LV\"])\n",
    "\n",
    "i = 0\n",
    "for year in range (2012, 2018):\n",
    "    for week in range (1, 52):\n",
    "        mydate = str(year) + \"/\" + str(week)\n",
    "        \n",
    "        DC = 0\n",
    "        try:\n",
    "            DC = dc_week.loc[dc_week['YearWeek'] == mydate].iloc[0]['Count']\n",
    "        except:\n",
    "            DC = 0\n",
    "            \n",
    "        TM = 0\n",
    "        try:\n",
    "            TM = tm_week.loc[tm_week['YearWeek'] == mydate].iloc[0]['Count']\n",
    "        except:\n",
    "            TM = 0\n",
    "            \n",
    "        LV = 0\n",
    "        try:\n",
    "            LV = lv_week.loc[lv_week['YearWeek'] == mydate].iloc[0]['Count']\n",
    "        except:\n",
    "            LV = 0\n",
    "            \n",
    "        df.loc[i] = [ mydate, int(DC), int(TM), int(LV) ]\n",
    "        # df[i]['YearWeek'] = mydate\n",
    "        i = i + 1\n",
    "        \n",
    "#df = df.set_index('YearWeek')\n"
   ]
  },
  {
   "cell_type": "code",
   "execution_count": 14,
   "metadata": {},
   "outputs": [
    {
     "data": {
      "image/png": "[encoded data removed]",
      "text/plain": [
       "<matplotlib.figure.Figure at 0x10d1404a8>"
      ]
     },
     "metadata": {},
     "output_type": "display_data"
    }
   ],
   "source": [
    "# Plot (DC vs TM)\n",
    "\n",
    "fig, ax = plt.subplots(figsize=(20, 10))  \n",
    "index = np.arange(len(df)) # the x locations for the groups\n",
    "width = 0.35         # the width of the bars\n",
    "\n",
    "p1 = ax.bar(index, df['DC'], width, color='r')\n",
    "p2 = ax.bar(index + width, df['TM'], width, color='y')\n",
    "\n",
    "ax.set_title('Tweets per week, Theresa May vs David Cameron')\n",
    "\n",
    "# set axis ticks, and make visible only 1 every 20\n",
    "ax.set_xticks(index + width )\n",
    "ax.set_xticklabels(df['YearWeek'])\n",
    "plt.xticks(fontsize=10, rotation='vertical')\n",
    "for label in ax.get_xticklabels():\n",
    "    label.set_visible(False)\n",
    "for label in ax.get_xticklabels()[::20]:\n",
    "    label.set_visible(True)\n",
    "\n",
    "# Print legend and labels\n",
    "ax.legend((p1[0], p2[0]), ('DC', 'TM'))\n",
    "ax.set_ylabel('Tweets')\n",
    "ax.set_xlabel('Week')\n",
    "\n",
    "ax.autoscale_view()\n",
    "\n",
    "plt.show()"
   ]
  },
  {
   "cell_type": "markdown",
   "metadata": {},
   "source": [
    "# Content analysis of tweets"
   ]
  },
  {
   "cell_type": "code",
   "execution_count": 17,
   "metadata": {},
   "outputs": [
    {
     "data": {
      "text/html": [
       "<div>\n",
       "<table border=\"1\" class=\"dataframe\">\n",
       "  <thead>\n",
       "    <tr style=\"text-align: right;\">\n",
       "      <th></th>\n",
       "      <th>id</th>\n",
       "      <th>created_at</th>\n",
       "      <th>text</th>\n",
       "      <th>YearWeek</th>\n",
       "    </tr>\n",
       "  </thead>\n",
       "  <tbody>\n",
       "    <tr>\n",
       "      <th>0</th>\n",
       "      <td>976807128877928448</td>\n",
       "      <td>2018-03-22 13:05:42</td>\n",
       "      <td>People wrongly believe that dementia is an ine...</td>\n",
       "      <td>2018/12</td>\n",
       "    </tr>\n",
       "    <tr>\n",
       "      <th>1</th>\n",
       "      <td>976413836268982272</td>\n",
       "      <td>2018-03-21 11:02:54</td>\n",
       "      <td>Pleasure speaking today at Woodford County Hig...</td>\n",
       "      <td>2018/12</td>\n",
       "    </tr>\n",
       "    <tr>\n",
       "      <th>2</th>\n",
       "      <td>976097731411406848</td>\n",
       "      <td>2018-03-20 14:06:48</td>\n",
       "      <td>Another record-breaking year for Alzheimer's R...</td>\n",
       "      <td>2018/12</td>\n",
       "    </tr>\n",
       "    <tr>\n",
       "      <th>3</th>\n",
       "      <td>973655173569576960</td>\n",
       "      <td>2018-03-13 20:20:57</td>\n",
       "      <td>Just given evidence to the US Senate Foreign R...</td>\n",
       "      <td>2018/11</td>\n",
       "    </tr>\n",
       "    <tr>\n",
       "      <th>4</th>\n",
       "      <td>971334094968770560</td>\n",
       "      <td>2018-03-07 10:37:49</td>\n",
       "      <td>I first met Jo in Sudan where she was helping ...</td>\n",
       "      <td>2018/10</td>\n",
       "    </tr>\n",
       "  </tbody>\n",
       "</table>\n",
       "</div>"
      ],
      "text/plain": [
       "                   id          created_at  \\\n",
       "0  976807128877928448 2018-03-22 13:05:42   \n",
       "1  976413836268982272 2018-03-21 11:02:54   \n",
       "2  976097731411406848 2018-03-20 14:06:48   \n",
       "3  973655173569576960 2018-03-13 20:20:57   \n",
       "4  971334094968770560 2018-03-07 10:37:49   \n",
       "\n",
       "                                                text YearWeek  \n",
       "0  People wrongly believe that dementia is an ine...  2018/12  \n",
       "1  Pleasure speaking today at Woodford County Hig...  2018/12  \n",
       "2  Another record-breaking year for Alzheimer's R...  2018/12  \n",
       "3  Just given evidence to the US Senate Foreign R...  2018/11  \n",
       "4  I first met Jo in Sudan where she was helping ...  2018/10  "
      ]
     },
     "execution_count": 17,
     "metadata": {},
     "output_type": "execute_result"
    }
   ],
   "source": [
    "# Just to have the sample dataframe here for comparison\n",
    "dc.head(5)\n"
   ]
  },
  {
   "cell_type": "code",
   "execution_count": 18,
   "metadata": {
    "collapsed": true
   },
   "outputs": [],
   "source": [
    "# Here we define dh\n",
    "words_energy = ['believe', 'belief', 'action', 'do', \n",
    "                'take', 'fast', 'quick', 'as soon as possible', 'law', 'legislate', \n",
    "                'respond', 'right', 'wrong']\n",
    "\n",
    "words_friendliness = ['sympathy', 'concern', 'condolences', 'support', 'understand', \n",
    "                      'help', 'assist', 'disaster', 'tragedy']"
   ]
  },
  {
   "cell_type": "code",
   "execution_count": 48,
   "metadata": {},
   "outputs": [
    {
     "data": {
      "text/html": [
       "<div>\n",
       "<table border=\"1\" class=\"dataframe\">\n",
       "  <thead>\n",
       "    <tr style=\"text-align: right;\">\n",
       "      <th></th>\n",
       "      <th>id</th>\n",
       "      <th>created_at</th>\n",
       "      <th>text</th>\n",
       "      <th>YearWeek</th>\n",
       "      <th>energy</th>\n",
       "      <th>friendliness</th>\n",
       "    </tr>\n",
       "  </thead>\n",
       "  <tbody>\n",
       "    <tr>\n",
       "      <th>0</th>\n",
       "      <td>976807128877928448</td>\n",
       "      <td>2018-03-22 13:05:42</td>\n",
       "      <td>People wrongly believe that dementia is an ine...</td>\n",
       "      <td>2018/12</td>\n",
       "      <td>1</td>\n",
       "      <td>0</td>\n",
       "    </tr>\n",
       "    <tr>\n",
       "      <th>1</th>\n",
       "      <td>976413836268982272</td>\n",
       "      <td>2018-03-21 11:02:54</td>\n",
       "      <td>Pleasure speaking today at Woodford County Hig...</td>\n",
       "      <td>2018/12</td>\n",
       "      <td>0</td>\n",
       "      <td>0</td>\n",
       "    </tr>\n",
       "    <tr>\n",
       "      <th>2</th>\n",
       "      <td>976097731411406848</td>\n",
       "      <td>2018-03-20 14:06:48</td>\n",
       "      <td>Another record-breaking year for Alzheimer's R...</td>\n",
       "      <td>2018/12</td>\n",
       "      <td>1</td>\n",
       "      <td>0</td>\n",
       "    </tr>\n",
       "    <tr>\n",
       "      <th>3</th>\n",
       "      <td>973655173569576960</td>\n",
       "      <td>2018-03-13 20:20:57</td>\n",
       "      <td>Just given evidence to the US Senate Foreign R...</td>\n",
       "      <td>2018/11</td>\n",
       "      <td>0</td>\n",
       "      <td>0</td>\n",
       "    </tr>\n",
       "    <tr>\n",
       "      <th>4</th>\n",
       "      <td>971334094968770560</td>\n",
       "      <td>2018-03-07 10:37:49</td>\n",
       "      <td>I first met Jo in Sudan where she was helping ...</td>\n",
       "      <td>2018/10</td>\n",
       "      <td>0</td>\n",
       "      <td>2</td>\n",
       "    </tr>\n",
       "  </tbody>\n",
       "</table>\n",
       "</div>"
      ],
      "text/plain": [
       "                   id          created_at  \\\n",
       "0  976807128877928448 2018-03-22 13:05:42   \n",
       "1  976413836268982272 2018-03-21 11:02:54   \n",
       "2  976097731411406848 2018-03-20 14:06:48   \n",
       "3  973655173569576960 2018-03-13 20:20:57   \n",
       "4  971334094968770560 2018-03-07 10:37:49   \n",
       "\n",
       "                                                text YearWeek  energy  \\\n",
       "0  People wrongly believe that dementia is an ine...  2018/12       1   \n",
       "1  Pleasure speaking today at Woodford County Hig...  2018/12       0   \n",
       "2  Another record-breaking year for Alzheimer's R...  2018/12       1   \n",
       "3  Just given evidence to the US Senate Foreign R...  2018/11       0   \n",
       "4  I first met Jo in Sudan where she was helping ...  2018/10       0   \n",
       "\n",
       "   friendliness  \n",
       "0             0  \n",
       "1             0  \n",
       "2             0  \n",
       "3             0  \n",
       "4             2  "
      ]
     },
     "execution_count": 48,
     "metadata": {},
     "output_type": "execute_result"
    }
   ],
   "source": [
    "# Word search -> calculate the two indices and add to the table\n",
    "import re\n",
    "\n",
    "indices_of_friendliness = []\n",
    "indices_of_energy = []\n",
    "\n",
    "for sentence in dc['text'].str.lower():\n",
    "    \n",
    "    indexF = 0\n",
    "    for word in words_friendliness:\n",
    "        occurrences = len(re.findall(word,sentence))\n",
    "        indexF = indexF + occurrences\n",
    "    indices_of_friendliness.append(indexF)\n",
    "        \n",
    "    indexE = 0\n",
    "    for word in words_energy:\n",
    "        occurrences = len(re.findall(word,sentence))\n",
    "        indexE = indexE + occurrences\n",
    "    indices_of_energy.append(indexE)\n",
    "    \n",
    "dc['energy'] = indices_of_energy\n",
    "dc['friendliness'] = indices_of_friendliness\n",
    "dc.head()"
   ]
  },
  {
   "cell_type": "code",
   "execution_count": 49,
   "metadata": {},
   "outputs": [
    {
     "data": {
      "text/plain": [
       "<matplotlib.axes._subplots.AxesSubplot at 0x10fdb2fd0>"
      ]
     },
     "execution_count": 49,
     "metadata": {},
     "output_type": "execute_result"
    },
    {
     "data": {
      "image/png": "[encoded data removed]",
      "text/plain": [
       "<matplotlib.figure.Figure at 0x10f02cd30>"
      ]
     },
     "metadata": {},
     "output_type": "display_data"
    }
   ],
   "source": [
    "# Scatter tweets\n",
    "dc['energy'].plot(x='created_at', y='energy', style='o')\n"
   ]
  },
  {
   "cell_type": "code",
   "execution_count": 50,
   "metadata": {},
   "outputs": [
    {
     "data": {
      "text/plain": [
       "<matplotlib.axes._subplots.AxesSubplot at 0x10fdf3f28>"
      ]
     },
     "execution_count": 50,
     "metadata": {},
     "output_type": "execute_result"
    },
    {
     "data": {
      "image/png": "[encoded data removed]",
      "text/plain": [
       "<matplotlib.figure.Figure at 0x10fe099b0>"
      ]
     },
     "metadata": {},
     "output_type": "display_data"
    }
   ],
   "source": [
    "dc['friendliness'].plot(x='created_at', y='friendliness', style='o')"
   ]
  },
  {
   "cell_type": "code",
   "execution_count": null,
   "metadata": {
    "collapsed": true
   },
   "outputs": [],
   "source": []
  }
 ],
 "metadata": {
  "kernelspec": {
   "display_name": "Python 3",
   "language": "python",
   "name": "python3"
  },
  "language_info": {
   "codemirror_mode": {
    "name": "ipython",
    "version": 3
   },
   "file_extension": ".py",
   "mimetype": "text/x-python",
   "name": "python",
   "nbconvert_exporter": "python",
   "pygments_lexer": "ipython3",
   "version": "3.6.4"
  }
 },
 "nbformat": 4,
 "nbformat_minor": 2
}
