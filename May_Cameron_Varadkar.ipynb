{
 "cells": [
  {
   "cell_type": "code",
   "execution_count": 32,
   "metadata": {},
   "outputs": [],
   "source": [
    "# Library imports / set up\n",
    "import pandas as pd\n",
    "import matplotlib.pyplot as plt\n",
    "%matplotlib inline\n",
    "# display is required to allow multiple prints in each cell\n",
    "from IPython.display import display"
   ]
  },
  {
   "cell_type": "code",
   "execution_count": 53,
   "metadata": {},
   "outputs": [
    {
     "data": {
      "text/html": [
       "<div>\n",
       "<table border=\"1\" class=\"dataframe\">\n",
       "  <thead>\n",
       "    <tr style=\"text-align: right;\">\n",
       "      <th></th>\n",
       "      <th>id</th>\n",
       "      <th>created_at</th>\n",
       "      <th>text</th>\n",
       "    </tr>\n",
       "  </thead>\n",
       "  <tbody>\n",
       "    <tr>\n",
       "      <th>0</th>\n",
       "      <td>976807128877928448</td>\n",
       "      <td>2018-03-22 13:05:42</td>\n",
       "      <td>People wrongly believe that dementia is an ine...</td>\n",
       "    </tr>\n",
       "  </tbody>\n",
       "</table>\n",
       "</div>"
      ],
      "text/plain": [
       "                   id           created_at  \\\n",
       "0  976807128877928448  2018-03-22 13:05:42   \n",
       "\n",
       "                                                text  \n",
       "0  People wrongly believe that dementia is an ine...  "
      ]
     },
     "metadata": {},
     "output_type": "display_data"
    },
    {
     "data": {
      "text/html": [
       "<div>\n",
       "<table border=\"1\" class=\"dataframe\">\n",
       "  <thead>\n",
       "    <tr style=\"text-align: right;\">\n",
       "      <th></th>\n",
       "      <th>id</th>\n",
       "      <th>created_at</th>\n",
       "      <th>text</th>\n",
       "    </tr>\n",
       "  </thead>\n",
       "  <tbody>\n",
       "    <tr>\n",
       "      <th>0</th>\n",
       "      <td>979752503309946882</td>\n",
       "      <td>2018-03-30 16:09:34</td>\n",
       "      <td>RT @10DowningStreet: \"I wish you all a very ha...</td>\n",
       "    </tr>\n",
       "  </tbody>\n",
       "</table>\n",
       "</div>"
      ],
      "text/plain": [
       "                   id           created_at  \\\n",
       "0  979752503309946882  2018-03-30 16:09:34   \n",
       "\n",
       "                                                text  \n",
       "0  RT @10DowningStreet: \"I wish you all a very ha...  "
      ]
     },
     "metadata": {},
     "output_type": "display_data"
    },
    {
     "data": {
      "text/html": [
       "<div>\n",
       "<table border=\"1\" class=\"dataframe\">\n",
       "  <thead>\n",
       "    <tr style=\"text-align: right;\">\n",
       "      <th></th>\n",
       "      <th>id</th>\n",
       "      <th>created_at</th>\n",
       "      <th>text</th>\n",
       "    </tr>\n",
       "  </thead>\n",
       "  <tbody>\n",
       "    <tr>\n",
       "      <th>0</th>\n",
       "      <td>980032266616393728</td>\n",
       "      <td>2018-03-31 10:41:15</td>\n",
       "      <td>C’mon Munster. Looking forward to a good day i...</td>\n",
       "    </tr>\n",
       "  </tbody>\n",
       "</table>\n",
       "</div>"
      ],
      "text/plain": [
       "                   id           created_at  \\\n",
       "0  980032266616393728  2018-03-31 10:41:15   \n",
       "\n",
       "                                                text  \n",
       "0  C’mon Munster. Looking forward to a good day i...  "
      ]
     },
     "metadata": {},
     "output_type": "display_data"
    },
    {
     "data": {
      "text/plain": [
       "'DC (2648, 3), TM (733, 3), LV (3233, 3)'"
      ]
     },
     "metadata": {},
     "output_type": "display_data"
    }
   ],
   "source": [
    "# Data is read\n",
    "dc = pd.read_csv('david_cameron_tweets.csv')\n",
    "tm = pd.read_csv('theresa_may_tweets.csv')\n",
    "lv = pd.read_csv('campaignforleo_tweets.csv')\n",
    "\n",
    "# Print out first line to make sure data is read ok\n",
    "display(dc.head(1))\n",
    "display(tm.head(1))\n",
    "display(lv.head(1))\n",
    "\n",
    "# Print rows x columns so we're sure it's ok\n",
    "display(\"DC \" + str(dc.shape) + \", TM \" + str(tm.shape) + \", LV \" + str(lv.shape))"
   ]
  },
  {
   "cell_type": "code",
   "execution_count": 141,
   "metadata": {},
   "outputs": [
    {
     "data": {
      "text/plain": [
       "dtype('<M8[ns]')"
      ]
     },
     "execution_count": 141,
     "metadata": {},
     "output_type": "execute_result"
    }
   ],
   "source": [
    "# created_at is likely to be parsed as text\n",
    "# We convert dates to a date/time format so we can do 'maths' on them\n",
    "dc['created_at'] = pd.to_datetime(dc['created_at'], format='%Y-%m-%d %H:%M:%S')\n",
    "tm['created_at'] = pd.to_datetime(tm['created_at'], format='%Y-%m-%d %H:%M:%S')\n",
    "lv['created_at'] = pd.to_datetime(lv['created_at'], format='%Y-%m-%d %H:%M:%S')\n",
    "# If ok, dtype should be datetime64[ns] or <M8[ns]\n",
    "dc.created_at.dtype\n",
    "#tm.created_at.dtype\n",
    "#lv.created_at.dtype"
   ]
  },
  {
   "cell_type": "code",
   "execution_count": 142,
   "metadata": {},
   "outputs": [],
   "source": [
    "# Add year/week\n",
    "dc['YearWeek'] = dc['created_at'].apply(lambda x: \"%d/%d\" % (x.year, x.week))\n",
    "tm['YearWeek'] = tm['created_at'].apply(lambda x: \"%d/%d\" % (x.year, x.week))\n",
    "lv['YearWeek'] = lv['created_at'].apply(lambda x: \"%d/%d\" % (x.year, x.week))"
   ]
  },
  {
   "cell_type": "code",
   "execution_count": 172,
   "metadata": {},
   "outputs": [
    {
     "data": {
      "text/html": [
       "<div>\n",
       "<table border=\"1\" class=\"dataframe\">\n",
       "  <thead>\n",
       "    <tr style=\"text-align: right;\">\n",
       "      <th></th>\n",
       "      <th>YearWeek</th>\n",
       "      <th>Count</th>\n",
       "    </tr>\n",
       "  </thead>\n",
       "  <tbody>\n",
       "    <tr>\n",
       "      <th>0</th>\n",
       "      <td>2012/40</td>\n",
       "      <td>4</td>\n",
       "    </tr>\n",
       "    <tr>\n",
       "      <th>1</th>\n",
       "      <td>2012/41</td>\n",
       "      <td>8</td>\n",
       "    </tr>\n",
       "    <tr>\n",
       "      <th>2</th>\n",
       "      <td>2012/42</td>\n",
       "      <td>4</td>\n",
       "    </tr>\n",
       "  </tbody>\n",
       "</table>\n",
       "</div>"
      ],
      "text/plain": [
       "  YearWeek  Count\n",
       "0  2012/40      4\n",
       "1  2012/41      8\n",
       "2  2012/42      4"
      ]
     },
     "metadata": {},
     "output_type": "display_data"
    },
    {
     "data": {
      "text/html": [
       "<div>\n",
       "<table border=\"1\" class=\"dataframe\">\n",
       "  <thead>\n",
       "    <tr style=\"text-align: right;\">\n",
       "      <th></th>\n",
       "      <th>YearWeek</th>\n",
       "      <th>Count</th>\n",
       "    </tr>\n",
       "  </thead>\n",
       "  <tbody>\n",
       "    <tr>\n",
       "      <th>0</th>\n",
       "      <td>2016/26</td>\n",
       "      <td>45</td>\n",
       "    </tr>\n",
       "    <tr>\n",
       "      <th>1</th>\n",
       "      <td>2016/27</td>\n",
       "      <td>94</td>\n",
       "    </tr>\n",
       "    <tr>\n",
       "      <th>2</th>\n",
       "      <td>2016/28</td>\n",
       "      <td>16</td>\n",
       "    </tr>\n",
       "  </tbody>\n",
       "</table>\n",
       "</div>"
      ],
      "text/plain": [
       "  YearWeek  Count\n",
       "0  2016/26     45\n",
       "1  2016/27     94\n",
       "2  2016/28     16"
      ]
     },
     "metadata": {},
     "output_type": "display_data"
    },
    {
     "data": {
      "text/html": [
       "<div>\n",
       "<table border=\"1\" class=\"dataframe\">\n",
       "  <thead>\n",
       "    <tr style=\"text-align: right;\">\n",
       "      <th></th>\n",
       "      <th>YearWeek</th>\n",
       "      <th>Count</th>\n",
       "    </tr>\n",
       "  </thead>\n",
       "  <tbody>\n",
       "    <tr>\n",
       "      <th>0</th>\n",
       "      <td>2015/13</td>\n",
       "      <td>5</td>\n",
       "    </tr>\n",
       "    <tr>\n",
       "      <th>1</th>\n",
       "      <td>2015/14</td>\n",
       "      <td>13</td>\n",
       "    </tr>\n",
       "    <tr>\n",
       "      <th>2</th>\n",
       "      <td>2015/15</td>\n",
       "      <td>10</td>\n",
       "    </tr>\n",
       "  </tbody>\n",
       "</table>\n",
       "</div>"
      ],
      "text/plain": [
       "  YearWeek  Count\n",
       "0  2015/13      5\n",
       "1  2015/14     13\n",
       "2  2015/15     10"
      ]
     },
     "metadata": {},
     "output_type": "display_data"
    }
   ],
   "source": [
    "# Aggregate tweet counts per week\n",
    "# (TODO there are probably better, and more pythonesque, ways of doing this)\n",
    "dc_week = dc.groupby(['YearWeek'])\n",
    "x = dc_week.aggregate(np.count_nonzero)\n",
    "x = x.reset_index(level=['YearWeek'])\n",
    "dc_week = x[['YearWeek', 'id']].copy()\n",
    "dc_week.columns = ['YearWeek', 'Count']\n",
    "\n",
    "tm_week = tm.groupby(['YearWeek'])\n",
    "x = tm_week.aggregate(np.count_nonzero)\n",
    "x = x.reset_index(level=['YearWeek'])\n",
    "tm_week = x[['YearWeek', 'id']].copy()\n",
    "tm_week.columns = ['YearWeek', 'Count']\n",
    "\n",
    "lv_week = lv.groupby(['YearWeek'])\n",
    "x = lv_week.aggregate(np.count_nonzero)\n",
    "x = x.reset_index(level=['YearWeek'])\n",
    "lv_week = x[['YearWeek', 'id']].copy()\n",
    "lv_week.columns = ['YearWeek', 'Count']\n",
    "\n",
    "# Make sure it worked\n",
    "display(dc_week.head(3))\n",
    "display(tm_week.head(3))\n",
    "display(lv_week.head(3))\n"
   ]
  },
  {
   "cell_type": "code",
   "execution_count": 230,
   "metadata": {},
   "outputs": [],
   "source": [
    "# Let's put the values for DC, TM, and LV, together in a single data frame, for simplicity\n",
    "df = pd.DataFrame(columns=[\"YearWeek\",\"DC\", \"TM\", \"LV\"])\n",
    "\n",
    "i = 0\n",
    "for year in range (2012, 2018):\n",
    "    for week in range (1, 52):\n",
    "        mydate = str(year) + \"/\" + str(week)\n",
    "        \n",
    "        DC = 0\n",
    "        try:\n",
    "            DC = dc_week.loc[dc_week['YearWeek'] == mydate].iloc[0]['Count']\n",
    "        except:\n",
    "            DC = 0\n",
    "            \n",
    "        TM = 0\n",
    "        try:\n",
    "            TM = tm_week.loc[tm_week['YearWeek'] == mydate].iloc[0]['Count']\n",
    "        except:\n",
    "            TM = 0\n",
    "            \n",
    "        LV = 0\n",
    "        try:\n",
    "            LV = lv_week.loc[lv_week['YearWeek'] == mydate].iloc[0]['Count']\n",
    "        except:\n",
    "            LV = 0\n",
    "            \n",
    "        df.loc[i] = [ mydate, int(DC), int(TM), int(LV) ]\n",
    "        # df[i]['YearWeek'] = mydate\n",
    "        i = i + 1\n",
    "        \n",
    "#df = df.set_index('YearWeek')\n"
   ]
  },
  {
   "cell_type": "code",
   "execution_count": 328,
   "metadata": {},
   "outputs": [
    {
     "data": {
      "image/png": "[encoded data removed]",
      "text/plain": [
       "<matplotlib.figure.Figure at 0x10754d898>"
      ]
     },
     "metadata": {},
     "output_type": "display_data"
    }
   ],
   "source": [
    "# Plot (DC vs TM)\n",
    "\n",
    "fig, ax = plt.subplots(figsize=(20, 10))  \n",
    "index = np.arange(len(df)) # the x locations for the groups\n",
    "width = 0.35         # the width of the bars\n",
    "\n",
    "p1 = ax.bar(index, df['DC'], width, color='r')\n",
    "p2 = ax.bar(index + width, df['TM'], width, color='y')\n",
    "\n",
    "ax.set_title('Tweets per week, Theresa May vs David Cameron')\n",
    "\n",
    "# set axis ticks, and make visible only 1 every 20\n",
    "ax.set_xticks(index + width )\n",
    "ax.set_xticklabels(df['YearWeek'])\n",
    "plt.xticks(fontsize=10, rotation='vertical')\n",
    "for label in ax.get_xticklabels():\n",
    "    label.set_visible(False)\n",
    "for label in ax.get_xticklabels()[::20]:\n",
    "    label.set_visible(True)\n",
    "\n",
    "# Print legend and labels\n",
    "ax.legend((p1[0], p2[0]), ('DC', 'TM'))\n",
    "ax.set_ylabel('Tweets')\n",
    "ax.set_xlabel('Week')\n",
    "\n",
    "ax.autoscale_view()\n",
    "\n",
    "plt.show()"
   ]
  },
  {
   "cell_type": "code",
   "execution_count": null,
   "metadata": {
    "collapsed": true
   },
   "outputs": [],
   "source": []
  }
 ],
 "metadata": {
  "kernelspec": {
   "display_name": "Python 3",
   "language": "python",
   "name": "python3"
  },
  "language_info": {
   "codemirror_mode": {
    "name": "ipython",
    "version": 3
   },
   "file_extension": ".py",
   "mimetype": "text/x-python",
   "name": "python",
   "nbconvert_exporter": "python",
   "pygments_lexer": "ipython3",
   "version": "3.6.4"
  }
 },
 "nbformat": 4,
 "nbformat_minor": 2
}
